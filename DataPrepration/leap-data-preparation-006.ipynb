{
 "cells": [
  {
   "cell_type": "code",
   "execution_count": 1,
   "id": "55a119c5",
   "metadata": {
    "execution": {
     "iopub.execute_input": "2024-05-28T12:24:50.620692Z",
     "iopub.status.busy": "2024-05-28T12:24:50.620147Z",
     "iopub.status.idle": "2024-05-28T12:24:50.907858Z",
     "shell.execute_reply": "2024-05-28T12:24:50.906867Z"
    },
    "papermill": {
     "duration": 0.298103,
     "end_time": "2024-05-28T12:24:50.910683",
     "exception": false,
     "start_time": "2024-05-28T12:24:50.612580",
     "status": "completed"
    },
    "tags": []
   },
   "outputs": [],
   "source": [
    "import polars as pl\n",
    "import os\n",
    "\n",
    "total_rows = 10091520\n",
    "\n",
    "# Define the file path to your CSV file\n",
    "csv_file_path = \"/kaggle/input/leap-atmospheric-physics-ai-climsim/train.csv\"\n",
    "\n",
    "# Number of rows to read in each batch\n",
    "batch_size = 1000000"
   ]
  },
  {
   "cell_type": "code",
   "execution_count": 2,
   "id": "584511b9",
   "metadata": {
    "execution": {
     "iopub.execute_input": "2024-05-28T12:24:50.921635Z",
     "iopub.status.busy": "2024-05-28T12:24:50.921228Z",
     "iopub.status.idle": "2024-05-28T12:24:50.984612Z",
     "shell.execute_reply": "2024-05-28T12:24:50.983550Z"
    },
    "papermill": {
     "duration": 0.071734,
     "end_time": "2024-05-28T12:24:50.987191",
     "exception": false,
     "start_time": "2024-05-28T12:24:50.915457",
     "status": "completed"
    },
    "tags": []
   },
   "outputs": [
    {
     "data": {
      "text/plain": [
       "0"
      ]
     },
     "execution_count": 2,
     "metadata": {},
     "output_type": "execute_result"
    }
   ],
   "source": [
    "import gc\n",
    "gc.collect()"
   ]
  },
  {
   "cell_type": "code",
   "execution_count": 3,
   "id": "0f62333d",
   "metadata": {
    "execution": {
     "iopub.execute_input": "2024-05-28T12:24:50.998455Z",
     "iopub.status.busy": "2024-05-28T12:24:50.998077Z",
     "iopub.status.idle": "2024-05-28T12:24:51.069450Z",
     "shell.execute_reply": "2024-05-28T12:24:51.068438Z"
    },
    "papermill": {
     "duration": 0.080047,
     "end_time": "2024-05-28T12:24:51.071854",
     "exception": false,
     "start_time": "2024-05-28T12:24:50.991807",
     "status": "completed"
    },
    "tags": []
   },
   "outputs": [],
   "source": [
    "# Create a CSV reader with the specified batch size\n",
    "reader = pl.read_csv_batched(csv_file_path, batch_size=batch_size)"
   ]
  },
  {
   "cell_type": "code",
   "execution_count": 4,
   "id": "e59f6d1f",
   "metadata": {
    "execution": {
     "iopub.execute_input": "2024-05-28T12:24:51.083426Z",
     "iopub.status.busy": "2024-05-28T12:24:51.082486Z",
     "iopub.status.idle": "2024-05-28T12:29:10.530726Z",
     "shell.execute_reply": "2024-05-28T12:29:10.529580Z"
    },
    "papermill": {
     "duration": 259.457231,
     "end_time": "2024-05-28T12:29:10.533778",
     "exception": false,
     "start_time": "2024-05-28T12:24:51.076547",
     "status": "completed"
    },
    "tags": []
   },
   "outputs": [],
   "source": [
    "# 1,2\n",
    "batches = reader.next_batches(2)"
   ]
  },
  {
   "cell_type": "code",
   "execution_count": 5,
   "id": "a16e49fe",
   "metadata": {
    "execution": {
     "iopub.execute_input": "2024-05-28T12:29:10.545924Z",
     "iopub.status.busy": "2024-05-28T12:29:10.545529Z",
     "iopub.status.idle": "2024-05-28T12:33:25.590342Z",
     "shell.execute_reply": "2024-05-28T12:33:25.586417Z"
    },
    "papermill": {
     "duration": 255.0599,
     "end_time": "2024-05-28T12:33:25.599051",
     "exception": false,
     "start_time": "2024-05-28T12:29:10.539151",
     "status": "completed"
    },
    "tags": []
   },
   "outputs": [],
   "source": [
    "# 3\n",
    "batches = reader.next_batches(1)"
   ]
  },
  {
   "cell_type": "code",
   "execution_count": 6,
   "id": "200bacfb",
   "metadata": {
    "execution": {
     "iopub.execute_input": "2024-05-28T12:33:25.628254Z",
     "iopub.status.busy": "2024-05-28T12:33:25.625746Z",
     "iopub.status.idle": "2024-05-28T12:37:45.672320Z",
     "shell.execute_reply": "2024-05-28T12:37:45.669747Z"
    },
    "papermill": {
     "duration": 260.05991,
     "end_time": "2024-05-28T12:37:45.676994",
     "exception": false,
     "start_time": "2024-05-28T12:33:25.617084",
     "status": "completed"
    },
    "tags": []
   },
   "outputs": [],
   "source": [
    "# 4\n",
    "batches = reader.next_batches(1)"
   ]
  },
  {
   "cell_type": "code",
   "execution_count": 7,
   "id": "6584f48e",
   "metadata": {
    "execution": {
     "iopub.execute_input": "2024-05-28T12:37:45.692436Z",
     "iopub.status.busy": "2024-05-28T12:37:45.691239Z",
     "iopub.status.idle": "2024-05-28T12:42:12.393691Z",
     "shell.execute_reply": "2024-05-28T12:42:12.389440Z"
    },
    "papermill": {
     "duration": 266.716979,
     "end_time": "2024-05-28T12:42:12.400118",
     "exception": false,
     "start_time": "2024-05-28T12:37:45.683139",
     "status": "completed"
    },
    "tags": []
   },
   "outputs": [],
   "source": [
    "# 5\n",
    "batches = reader.next_batches(1)"
   ]
  },
  {
   "cell_type": "code",
   "execution_count": 8,
   "id": "033bf751",
   "metadata": {
    "execution": {
     "iopub.execute_input": "2024-05-28T12:42:12.422393Z",
     "iopub.status.busy": "2024-05-28T12:42:12.421708Z",
     "iopub.status.idle": "2024-05-28T12:46:34.876617Z",
     "shell.execute_reply": "2024-05-28T12:46:34.873877Z"
    },
    "papermill": {
     "duration": 262.470911,
     "end_time": "2024-05-28T12:46:34.882005",
     "exception": false,
     "start_time": "2024-05-28T12:42:12.411094",
     "status": "completed"
    },
    "tags": []
   },
   "outputs": [],
   "source": [
    "# 6\n",
    "batches = reader.next_batches(1)"
   ]
  },
  {
   "cell_type": "code",
   "execution_count": 9,
   "id": "5e0dbf91",
   "metadata": {
    "execution": {
     "iopub.execute_input": "2024-05-28T12:46:34.902309Z",
     "iopub.status.busy": "2024-05-28T12:46:34.901374Z",
     "iopub.status.idle": "2024-05-28T12:46:34.966391Z",
     "shell.execute_reply": "2024-05-28T12:46:34.964227Z"
    },
    "papermill": {
     "duration": 0.078126,
     "end_time": "2024-05-28T12:46:34.969577",
     "exception": false,
     "start_time": "2024-05-28T12:46:34.891451",
     "status": "completed"
    },
    "tags": []
   },
   "outputs": [
    {
     "data": {
      "text/plain": [
       "[shape: (984_296, 925)\n",
       " ┌───────────┬───────────┬───────────┬───────────┬───┬───────────┬───────────┬───────────┬──────────┐\n",
       " │ sample_id ┆ state_t_0 ┆ state_t_1 ┆ state_t_2 ┆ … ┆ cam_out_S ┆ cam_out_S ┆ cam_out_S ┆ cam_out_ │\n",
       " │ ---       ┆ ---       ┆ ---       ┆ ---       ┆   ┆ OLS       ┆ OLL       ┆ OLSD      ┆ SOLLD    │\n",
       " │ str       ┆ f64       ┆ f64       ┆ f64       ┆   ┆ ---       ┆ ---       ┆ ---       ┆ ---      │\n",
       " │           ┆           ┆           ┆           ┆   ┆ f64       ┆ f64       ┆ f64       ┆ f64      │\n",
       " ╞═══════════╪═══════════╪═══════════╪═══════════╪═══╪═══════════╪═══════════╪═══════════╪══════════╡\n",
       " │ train_491 ┆ 210.46396 ┆ 225.32324 ┆ 241.67566 ┆ … ┆ 0.0       ┆ 0.0       ┆ 0.0       ┆ 0.0      │\n",
       " │ 8415      ┆ 3         ┆           ┆ 8         ┆   ┆           ┆           ┆           ┆          │\n",
       " │ train_491 ┆ 203.6952  ┆ 205.89671 ┆ 227.71628 ┆ … ┆ 161.18430 ┆ 166.64258 ┆ 51.350725 ┆ 23.41874 │\n",
       " │ 8416      ┆           ┆ 8         ┆ 5         ┆   ┆ 7         ┆ 2         ┆           ┆ 6        │\n",
       " │ train_491 ┆ 202.32802 ┆ 206.11910 ┆ 230.70285 ┆ … ┆ 64.037989 ┆ 60.907836 ┆ 40.086579 ┆ 16.52974 │\n",
       " │ 8417      ┆ 3         ┆ 2         ┆ 1         ┆   ┆           ┆           ┆           ┆ 2        │\n",
       " │ train_491 ┆ 205.66373 ┆ 208.12077 ┆ 231.72110 ┆ … ┆ 177.85146 ┆ 205.51904 ┆ 84.551366 ┆ 33.67932 │\n",
       " │ 8418      ┆ 5         ┆ 9         ┆ 2         ┆   ┆ 1         ┆ 7         ┆           ┆ 7        │\n",
       " │ train_491 ┆ 205.62891 ┆ 208.45185 ┆ 231.34747 ┆ … ┆ 122.96120 ┆ 131.34714 ┆ 51.595494 ┆ 18.73770 │\n",
       " │ 8419      ┆ 6         ┆ 1         ┆ 8         ┆   ┆ 6         ┆ 1         ┆           ┆ 1        │\n",
       " │ …         ┆ …         ┆ …         ┆ …         ┆ … ┆ …         ┆ …         ┆ …         ┆ …        │\n",
       " │ train_590 ┆ 222.34411 ┆ 236.70476 ┆ 241.39939 ┆ … ┆ 0.0       ┆ 0.0       ┆ 0.0       ┆ 0.0      │\n",
       " │ 2706      ┆ 5         ┆ 4         ┆ 7         ┆   ┆           ┆           ┆           ┆          │\n",
       " │ train_590 ┆ 223.84756 ┆ 242.97749 ┆ 247.20466 ┆ … ┆ 0.0       ┆ 0.0       ┆ 0.0       ┆ 0.0      │\n",
       " │ 2707      ┆           ┆ 3         ┆ 1         ┆   ┆           ┆           ┆           ┆          │\n",
       " │ train_590 ┆ 223.23703 ┆ 228.48865 ┆ 236.58901 ┆ … ┆ 0.0       ┆ 0.0       ┆ 0.0       ┆ 0.0      │\n",
       " │ 2708      ┆ 2         ┆ 8         ┆ 9         ┆   ┆           ┆           ┆           ┆          │\n",
       " │ train_590 ┆ 221.32608 ┆ 231.98238 ┆ 240.40482 ┆ … ┆ 0.0       ┆ 0.0       ┆ 0.0       ┆ 0.0      │\n",
       " │ 2709      ┆ 5         ┆ 4         ┆ 4         ┆   ┆           ┆           ┆           ┆          │\n",
       " │ train_590 ┆ 226.67060 ┆ 246.03031 ┆ 246.09388 ┆ … ┆ 0.0       ┆ 0.0       ┆ 0.0       ┆ 0.0      │\n",
       " │ 2710      ┆ 5         ┆ 9         ┆ 3         ┆   ┆           ┆           ┆           ┆          │\n",
       " └───────────┴───────────┴───────────┴───────────┴───┴───────────┴───────────┴───────────┴──────────┘]"
      ]
     },
     "execution_count": 9,
     "metadata": {},
     "output_type": "execute_result"
    }
   ],
   "source": [
    "batches"
   ]
  },
  {
   "cell_type": "code",
   "execution_count": 10,
   "id": "c975550a",
   "metadata": {
    "execution": {
     "iopub.execute_input": "2024-05-28T12:46:34.983342Z",
     "iopub.status.busy": "2024-05-28T12:46:34.982124Z",
     "iopub.status.idle": "2024-05-28T12:47:33.947456Z",
     "shell.execute_reply": "2024-05-28T12:47:33.945903Z"
    },
    "papermill": {
     "duration": 58.979903,
     "end_time": "2024-05-28T12:47:33.954633",
     "exception": false,
     "start_time": "2024-05-28T12:46:34.974730",
     "status": "completed"
    },
    "tags": []
   },
   "outputs": [
    {
     "name": "stdout",
     "output_type": "stream",
     "text": [
      "Batch 6 saved to leap_train_batch_6.parquet\n"
     ]
    }
   ],
   "source": [
    "# Initialize a counter to track batches\n",
    "batch_counter = 5\n",
    "\n",
    "\n",
    "parquet_file_path = f'leap_train_batch_{batch_counter + 1}.parquet'\n",
    "batches[0].write_parquet(parquet_file_path)\n",
    "print(f'Batch {batch_counter + 1} saved to {parquet_file_path}')"
   ]
  },
  {
   "cell_type": "code",
   "execution_count": null,
   "id": "8d49fb5a",
   "metadata": {
    "papermill": {
     "duration": 0.004927,
     "end_time": "2024-05-28T12:47:33.964582",
     "exception": false,
     "start_time": "2024-05-28T12:47:33.959655",
     "status": "completed"
    },
    "tags": []
   },
   "outputs": [],
   "source": []
  }
 ],
 "metadata": {
  "kaggle": {
   "accelerator": "none",
   "dataSources": [
    {
     "databundleVersionId": 8015876,
     "sourceId": 56537,
     "sourceType": "competition"
    }
   ],
   "isGpuEnabled": false,
   "isInternetEnabled": true,
   "language": "python",
   "sourceType": "notebook"
  },
  "kernelspec": {
   "display_name": "Python 3",
   "language": "python",
   "name": "python3"
  },
  "language_info": {
   "codemirror_mode": {
    "name": "ipython",
    "version": 3
   },
   "file_extension": ".py",
   "mimetype": "text/x-python",
   "name": "python",
   "nbconvert_exporter": "python",
   "pygments_lexer": "ipython3",
   "version": "3.10.13"
  },
  "papermill": {
   "default_parameters": {},
   "duration": 1368.536211,
   "end_time": "2024-05-28T12:47:36.004203",
   "environment_variables": {},
   "exception": null,
   "input_path": "__notebook__.ipynb",
   "output_path": "__notebook__.ipynb",
   "parameters": {},
   "start_time": "2024-05-28T12:24:47.467992",
   "version": "2.5.0"
  }
 },
 "nbformat": 4,
 "nbformat_minor": 5
}
