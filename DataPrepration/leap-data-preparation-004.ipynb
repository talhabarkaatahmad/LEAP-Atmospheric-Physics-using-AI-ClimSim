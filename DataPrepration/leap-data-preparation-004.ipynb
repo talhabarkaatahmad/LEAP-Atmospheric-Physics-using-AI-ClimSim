{
 "cells": [
  {
   "cell_type": "code",
   "execution_count": 1,
   "id": "457a0232",
   "metadata": {
    "execution": {
     "iopub.execute_input": "2024-05-28T11:39:29.133701Z",
     "iopub.status.busy": "2024-05-28T11:39:29.133227Z",
     "iopub.status.idle": "2024-05-28T11:39:29.399880Z",
     "shell.execute_reply": "2024-05-28T11:39:29.398625Z"
    },
    "papermill": {
     "duration": 0.274991,
     "end_time": "2024-05-28T11:39:29.402647",
     "exception": false,
     "start_time": "2024-05-28T11:39:29.127656",
     "status": "completed"
    },
    "tags": []
   },
   "outputs": [],
   "source": [
    "import polars as pl\n",
    "import os\n",
    "\n",
    "total_rows = 10091520\n",
    "\n",
    "# Define the file path to your CSV file\n",
    "csv_file_path = \"/kaggle/input/leap-atmospheric-physics-ai-climsim/train.csv\"\n",
    "\n",
    "# Number of rows to read in each batch\n",
    "batch_size = 1000000"
   ]
  },
  {
   "cell_type": "code",
   "execution_count": 2,
   "id": "2bf37fac",
   "metadata": {
    "execution": {
     "iopub.execute_input": "2024-05-28T11:39:29.411349Z",
     "iopub.status.busy": "2024-05-28T11:39:29.410204Z",
     "iopub.status.idle": "2024-05-28T11:39:29.475031Z",
     "shell.execute_reply": "2024-05-28T11:39:29.473713Z"
    },
    "papermill": {
     "duration": 0.071456,
     "end_time": "2024-05-28T11:39:29.477486",
     "exception": false,
     "start_time": "2024-05-28T11:39:29.406030",
     "status": "completed"
    },
    "tags": []
   },
   "outputs": [
    {
     "data": {
      "text/plain": [
       "0"
      ]
     },
     "execution_count": 2,
     "metadata": {},
     "output_type": "execute_result"
    }
   ],
   "source": [
    "import gc\n",
    "gc.collect()"
   ]
  },
  {
   "cell_type": "code",
   "execution_count": 3,
   "id": "9e05a7bd",
   "metadata": {
    "execution": {
     "iopub.execute_input": "2024-05-28T11:39:29.486605Z",
     "iopub.status.busy": "2024-05-28T11:39:29.485565Z",
     "iopub.status.idle": "2024-05-28T11:39:29.555021Z",
     "shell.execute_reply": "2024-05-28T11:39:29.554089Z"
    },
    "papermill": {
     "duration": 0.076581,
     "end_time": "2024-05-28T11:39:29.557480",
     "exception": false,
     "start_time": "2024-05-28T11:39:29.480899",
     "status": "completed"
    },
    "tags": []
   },
   "outputs": [],
   "source": [
    "# Create a CSV reader with the specified batch size\n",
    "reader = pl.read_csv_batched(csv_file_path, batch_size=batch_size)"
   ]
  },
  {
   "cell_type": "code",
   "execution_count": 4,
   "id": "dbad895d",
   "metadata": {
    "execution": {
     "iopub.execute_input": "2024-05-28T11:39:29.566145Z",
     "iopub.status.busy": "2024-05-28T11:39:29.565163Z",
     "iopub.status.idle": "2024-05-28T11:43:59.800319Z",
     "shell.execute_reply": "2024-05-28T11:43:59.797345Z"
    },
    "papermill": {
     "duration": 270.245869,
     "end_time": "2024-05-28T11:43:59.806641",
     "exception": false,
     "start_time": "2024-05-28T11:39:29.560772",
     "status": "completed"
    },
    "tags": []
   },
   "outputs": [],
   "source": [
    "# 1,2\n",
    "batches = reader.next_batches(2)"
   ]
  },
  {
   "cell_type": "code",
   "execution_count": 5,
   "id": "8e948519",
   "metadata": {
    "execution": {
     "iopub.execute_input": "2024-05-28T11:43:59.820643Z",
     "iopub.status.busy": "2024-05-28T11:43:59.819141Z",
     "iopub.status.idle": "2024-05-28T11:48:11.602407Z",
     "shell.execute_reply": "2024-05-28T11:48:11.599425Z"
    },
    "papermill": {
     "duration": 251.794082,
     "end_time": "2024-05-28T11:48:11.606964",
     "exception": false,
     "start_time": "2024-05-28T11:43:59.812882",
     "status": "completed"
    },
    "tags": []
   },
   "outputs": [],
   "source": [
    "# 3\n",
    "batches = reader.next_batches(1)"
   ]
  },
  {
   "cell_type": "code",
   "execution_count": 6,
   "id": "652de9c4",
   "metadata": {
    "execution": {
     "iopub.execute_input": "2024-05-28T11:48:11.630105Z",
     "iopub.status.busy": "2024-05-28T11:48:11.628602Z",
     "iopub.status.idle": "2024-05-28T11:52:20.619390Z",
     "shell.execute_reply": "2024-05-28T11:52:20.616883Z"
    },
    "papermill": {
     "duration": 249.010532,
     "end_time": "2024-05-28T11:52:20.623404",
     "exception": false,
     "start_time": "2024-05-28T11:48:11.612872",
     "status": "completed"
    },
    "tags": []
   },
   "outputs": [],
   "source": [
    "# 4\n",
    "batches = reader.next_batches(1)"
   ]
  },
  {
   "cell_type": "code",
   "execution_count": 7,
   "id": "eb0fa88c",
   "metadata": {
    "execution": {
     "iopub.execute_input": "2024-05-28T11:52:20.634997Z",
     "iopub.status.busy": "2024-05-28T11:52:20.633594Z",
     "iopub.status.idle": "2024-05-28T11:52:20.705765Z",
     "shell.execute_reply": "2024-05-28T11:52:20.702904Z"
    },
    "papermill": {
     "duration": 0.081634,
     "end_time": "2024-05-28T11:52:20.708912",
     "exception": false,
     "start_time": "2024-05-28T11:52:20.627278",
     "status": "completed"
    },
    "tags": []
   },
   "outputs": [
    {
     "data": {
      "text/plain": [
       "[shape: (984_097, 925)\n",
       " ┌───────────┬───────────┬───────────┬───────────┬───┬───────────┬───────────┬───────────┬──────────┐\n",
       " │ sample_id ┆ state_t_0 ┆ state_t_1 ┆ state_t_2 ┆ … ┆ cam_out_S ┆ cam_out_S ┆ cam_out_S ┆ cam_out_ │\n",
       " │ ---       ┆ ---       ┆ ---       ┆ ---       ┆   ┆ OLS       ┆ OLL       ┆ OLSD      ┆ SOLLD    │\n",
       " │ str       ┆ f64       ┆ f64       ┆ f64       ┆   ┆ ---       ┆ ---       ┆ ---       ┆ ---      │\n",
       " │           ┆           ┆           ┆           ┆   ┆ f64       ┆ f64       ┆ f64       ┆ f64      │\n",
       " ╞═══════════╪═══════════╪═══════════╪═══════════╪═══╪═══════════╪═══════════╪═══════════╪══════════╡\n",
       " │ train_295 ┆ 217.91983 ┆ 231.62708 ┆ 233.25574 ┆ … ┆ 0.0       ┆ 0.0       ┆ 0.0       ┆ 0.0      │\n",
       " │ 1091      ┆ 6         ┆ 4         ┆ 6         ┆   ┆           ┆           ┆           ┆          │\n",
       " │ train_295 ┆ 217.96896 ┆ 235.93212 ┆ 240.49005 ┆ … ┆ 0.0       ┆ 0.0       ┆ 0.0       ┆ 0.0      │\n",
       " │ 1092      ┆ 8         ┆ 9         ┆ 4         ┆   ┆           ┆           ┆           ┆          │\n",
       " │ train_295 ┆ 218.37081 ┆ 236.29464 ┆ 236.84479 ┆ … ┆ 0.0       ┆ 0.0       ┆ 0.0       ┆ 0.0      │\n",
       " │ 1093      ┆ 6         ┆ 2         ┆ 9         ┆   ┆           ┆           ┆           ┆          │\n",
       " │ train_295 ┆ 217.91612 ┆ 234.43940 ┆ 235.07223 ┆ … ┆ 0.0       ┆ 0.0       ┆ 0.0       ┆ 0.0      │\n",
       " │ 1094      ┆ 7         ┆ 2         ┆ 3         ┆   ┆           ┆           ┆           ┆          │\n",
       " │ train_295 ┆ 218.42697 ┆ 233.78038 ┆ 232.60753 ┆ … ┆ 0.0       ┆ 0.0       ┆ 0.0       ┆ 0.0      │\n",
       " │ 1095      ┆ 8         ┆ 6         ┆ 9         ┆   ┆           ┆           ┆           ┆          │\n",
       " │ …         ┆ …         ┆ …         ┆ …         ┆ … ┆ …         ┆ …         ┆ …         ┆ …        │\n",
       " │ train_393 ┆ 220.41635 ┆ 237.59142 ┆ 242.10952 ┆ … ┆ 123.08891 ┆ 153.83214 ┆ 58.419803 ┆ 27.75242 │\n",
       " │ 5183      ┆ 1         ┆           ┆ 5         ┆   ┆ 6         ┆ 8         ┆           ┆ 9        │\n",
       " │ train_393 ┆ 222.83648 ┆ 238.70686 ┆ 245.99421 ┆ … ┆ 0.0       ┆ 0.0       ┆ 0.0       ┆ 0.0      │\n",
       " │ 5184      ┆ 3         ┆ 2         ┆ 6         ┆   ┆           ┆           ┆           ┆          │\n",
       " │ train_393 ┆ 221.39070 ┆ 238.38728 ┆ 247.83596 ┆ … ┆ 0.0       ┆ 0.0       ┆ 0.0       ┆ 0.0      │\n",
       " │ 5185      ┆ 4         ┆ 8         ┆ 1         ┆   ┆           ┆           ┆           ┆          │\n",
       " │ train_393 ┆ 224.10795 ┆ 238.47503 ┆ 244.55411 ┆ … ┆ 0.0       ┆ 0.0       ┆ 0.0       ┆ 0.0      │\n",
       " │ 5186      ┆           ┆ 2         ┆ 2         ┆   ┆           ┆           ┆           ┆          │\n",
       " │ train_393 ┆ 221.45641 ┆ 237.86375 ┆ 245.27246 ┆ … ┆ 0.0       ┆ 0.0       ┆ 0.0       ┆ 0.0      │\n",
       " │ 5187      ┆ 3         ┆ 5         ┆ 8         ┆   ┆           ┆           ┆           ┆          │\n",
       " └───────────┴───────────┴───────────┴───────────┴───┴───────────┴───────────┴───────────┴──────────┘]"
      ]
     },
     "execution_count": 7,
     "metadata": {},
     "output_type": "execute_result"
    }
   ],
   "source": [
    "batches"
   ]
  },
  {
   "cell_type": "code",
   "execution_count": 8,
   "id": "c3a662f2",
   "metadata": {
    "execution": {
     "iopub.execute_input": "2024-05-28T11:52:20.720222Z",
     "iopub.status.busy": "2024-05-28T11:52:20.719101Z",
     "iopub.status.idle": "2024-05-28T11:53:20.497311Z",
     "shell.execute_reply": "2024-05-28T11:53:20.496178Z"
    },
    "papermill": {
     "duration": 59.78982,
     "end_time": "2024-05-28T11:53:20.502787",
     "exception": false,
     "start_time": "2024-05-28T11:52:20.712967",
     "status": "completed"
    },
    "tags": []
   },
   "outputs": [
    {
     "name": "stdout",
     "output_type": "stream",
     "text": [
      "Batch 4 saved to leap_train_batch_4.parquet\n"
     ]
    }
   ],
   "source": [
    "# Initialize a counter to track batches\n",
    "batch_counter = 3\n",
    "\n",
    "\n",
    "parquet_file_path = f'leap_train_batch_{batch_counter + 1}.parquet'\n",
    "batches[0].write_parquet(parquet_file_path)\n",
    "print(f'Batch {batch_counter + 1} saved to {parquet_file_path}')"
   ]
  },
  {
   "cell_type": "code",
   "execution_count": null,
   "id": "4ba1a70c",
   "metadata": {
    "papermill": {
     "duration": 0.003838,
     "end_time": "2024-05-28T11:53:20.510260",
     "exception": false,
     "start_time": "2024-05-28T11:53:20.506422",
     "status": "completed"
    },
    "tags": []
   },
   "outputs": [],
   "source": []
  }
 ],
 "metadata": {
  "kaggle": {
   "accelerator": "none",
   "dataSources": [
    {
     "databundleVersionId": 8015876,
     "sourceId": 56537,
     "sourceType": "competition"
    }
   ],
   "dockerImageVersionId": 30698,
   "isGpuEnabled": false,
   "isInternetEnabled": true,
   "language": "python",
   "sourceType": "notebook"
  },
  "kernelspec": {
   "display_name": "Python 3",
   "language": "python",
   "name": "python3"
  },
  "language_info": {
   "codemirror_mode": {
    "name": "ipython",
    "version": 3
   },
   "file_extension": ".py",
   "mimetype": "text/x-python",
   "name": "python",
   "nbconvert_exporter": "python",
   "pygments_lexer": "ipython3",
   "version": "3.10.13"
  },
  "papermill": {
   "default_parameters": {},
   "duration": 836.653922,
   "end_time": "2024-05-28T11:53:22.746309",
   "environment_variables": {},
   "exception": null,
   "input_path": "__notebook__.ipynb",
   "output_path": "__notebook__.ipynb",
   "parameters": {},
   "start_time": "2024-05-28T11:39:26.092387",
   "version": "2.5.0"
  }
 },
 "nbformat": 4,
 "nbformat_minor": 5
}
