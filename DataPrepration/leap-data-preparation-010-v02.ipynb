{
 "cells": [
  {
   "cell_type": "code",
   "execution_count": 1,
   "id": "3f0ac0bf",
   "metadata": {
    "_cell_guid": "b1076dfc-b9ad-4769-8c92-a6c4dae69d19",
    "_uuid": "8f2839f25d086af736a60e9eeb907d3b93b6e0e5",
    "execution": {
     "iopub.execute_input": "2024-06-02T15:22:17.383391Z",
     "iopub.status.busy": "2024-06-02T15:22:17.382900Z",
     "iopub.status.idle": "2024-06-02T15:22:18.769302Z",
     "shell.execute_reply": "2024-06-02T15:22:18.767890Z"
    },
    "papermill": {
     "duration": 1.395582,
     "end_time": "2024-06-02T15:22:18.772662",
     "exception": false,
     "start_time": "2024-06-02T15:22:17.377080",
     "status": "completed"
    },
    "tags": []
   },
   "outputs": [],
   "source": [
    "import numpy as np # linear algebra\n",
    "import pandas as pd # data processing, CSV file I/O (e.g. pd.read_csv)\n",
    "\n",
    "import polars as pl\n",
    "import os"
   ]
  },
  {
   "cell_type": "code",
   "execution_count": 2,
   "id": "06ea83e9",
   "metadata": {
    "execution": {
     "iopub.execute_input": "2024-06-02T15:22:18.781599Z",
     "iopub.status.busy": "2024-06-02T15:22:18.781034Z",
     "iopub.status.idle": "2024-06-02T15:22:18.788068Z",
     "shell.execute_reply": "2024-06-02T15:22:18.786094Z"
    },
    "papermill": {
     "duration": 0.014662,
     "end_time": "2024-06-02T15:22:18.790852",
     "exception": false,
     "start_time": "2024-06-02T15:22:18.776190",
     "status": "completed"
    },
    "tags": []
   },
   "outputs": [],
   "source": [
    "batch09_file_path = \"/kaggle/input/leap-data-preparation-009/leap_train_batch_9.parquet\"\n",
    "batch10_file_path = \"/kaggle/input/leap-data-preparation-010/leap_train_batch_10.parquet\"\n",
    "output_parquet = '/kaggle/working/leap_train_batch_10_v02.parquet'  # Path to save the output file"
   ]
  },
  {
   "cell_type": "code",
   "execution_count": 3,
   "id": "53372f52",
   "metadata": {
    "execution": {
     "iopub.execute_input": "2024-06-02T15:22:18.799318Z",
     "iopub.status.busy": "2024-06-02T15:22:18.798899Z",
     "iopub.status.idle": "2024-06-02T15:22:35.527540Z",
     "shell.execute_reply": "2024-06-02T15:22:35.525974Z"
    },
    "papermill": {
     "duration": 16.736705,
     "end_time": "2024-06-02T15:22:35.530996",
     "exception": false,
     "start_time": "2024-06-02T15:22:18.794291",
     "status": "completed"
    },
    "tags": []
   },
   "outputs": [
    {
     "name": "stdout",
     "output_type": "stream",
     "text": [
      "Requirement already satisfied: pandas in /opt/conda/lib/python3.10/site-packages (2.2.2)\r\n",
      "Requirement already satisfied: pyarrow in /opt/conda/lib/python3.10/site-packages (16.1.0)\r\n",
      "Requirement already satisfied: numpy>=1.22.4 in /opt/conda/lib/python3.10/site-packages (from pandas) (1.26.4)\r\n",
      "Requirement already satisfied: python-dateutil>=2.8.2 in /opt/conda/lib/python3.10/site-packages (from pandas) (2.9.0.post0)\r\n",
      "Requirement already satisfied: pytz>=2020.1 in /opt/conda/lib/python3.10/site-packages (from pandas) (2023.3.post1)\r\n",
      "Requirement already satisfied: tzdata>=2022.7 in /opt/conda/lib/python3.10/site-packages (from pandas) (2023.4)\r\n",
      "Requirement already satisfied: six>=1.5 in /opt/conda/lib/python3.10/site-packages (from python-dateutil>=2.8.2->pandas) (1.16.0)\r\n",
      "\u001b[33mWARNING: Error parsing requirements for aiohttp: [Errno 2] No such file or directory: '/opt/conda/lib/python3.10/site-packages/aiohttp-3.9.1.dist-info/METADATA'\u001b[0m\u001b[33m\r\n",
      "\u001b[0m"
     ]
    }
   ],
   "source": [
    "!pip install pandas pyarrow"
   ]
  },
  {
   "cell_type": "code",
   "execution_count": 4,
   "id": "89b1be12",
   "metadata": {
    "execution": {
     "iopub.execute_input": "2024-06-02T15:22:35.541896Z",
     "iopub.status.busy": "2024-06-02T15:22:35.540373Z",
     "iopub.status.idle": "2024-06-02T15:24:38.577044Z",
     "shell.execute_reply": "2024-06-02T15:24:38.575154Z"
    },
    "papermill": {
     "duration": 123.05593,
     "end_time": "2024-06-02T15:24:38.590888",
     "exception": false,
     "start_time": "2024-06-02T15:22:35.534958",
     "status": "completed"
    },
    "tags": []
   },
   "outputs": [
    {
     "data": {
      "text/html": [
       "<div>\n",
       "<style scoped>\n",
       "    .dataframe tbody tr th:only-of-type {\n",
       "        vertical-align: middle;\n",
       "    }\n",
       "\n",
       "    .dataframe tbody tr th {\n",
       "        vertical-align: top;\n",
       "    }\n",
       "\n",
       "    .dataframe thead th {\n",
       "        text-align: right;\n",
       "    }\n",
       "</style>\n",
       "<table border=\"1\" class=\"dataframe\">\n",
       "  <thead>\n",
       "    <tr style=\"text-align: right;\">\n",
       "      <th></th>\n",
       "      <th>sample_id</th>\n",
       "      <th>state_t_0</th>\n",
       "      <th>state_t_1</th>\n",
       "      <th>state_t_2</th>\n",
       "      <th>state_t_3</th>\n",
       "      <th>state_t_4</th>\n",
       "      <th>state_t_5</th>\n",
       "      <th>state_t_6</th>\n",
       "      <th>state_t_7</th>\n",
       "      <th>state_t_8</th>\n",
       "      <th>...</th>\n",
       "      <th>ptend_v_58</th>\n",
       "      <th>ptend_v_59</th>\n",
       "      <th>cam_out_NETSW</th>\n",
       "      <th>cam_out_FLWDS</th>\n",
       "      <th>cam_out_PRECSC</th>\n",
       "      <th>cam_out_PRECC</th>\n",
       "      <th>cam_out_SOLS</th>\n",
       "      <th>cam_out_SOLL</th>\n",
       "      <th>cam_out_SOLSD</th>\n",
       "      <th>cam_out_SOLLD</th>\n",
       "    </tr>\n",
       "  </thead>\n",
       "  <tbody>\n",
       "    <tr>\n",
       "      <th>0</th>\n",
       "      <td>train_9000000</td>\n",
       "      <td>220.335448</td>\n",
       "      <td>241.126010</td>\n",
       "      <td>247.123992</td>\n",
       "      <td>254.698078</td>\n",
       "      <td>255.908976</td>\n",
       "      <td>254.075383</td>\n",
       "      <td>248.748783</td>\n",
       "      <td>240.927043</td>\n",
       "      <td>233.029205</td>\n",
       "      <td>...</td>\n",
       "      <td>-0.000008</td>\n",
       "      <td>1.473562e-05</td>\n",
       "      <td>0.000000</td>\n",
       "      <td>387.926810</td>\n",
       "      <td>0.0</td>\n",
       "      <td>2.615084e-09</td>\n",
       "      <td>0.000000e+00</td>\n",
       "      <td>0.000000e+00</td>\n",
       "      <td>0.000000</td>\n",
       "      <td>0.000000</td>\n",
       "    </tr>\n",
       "    <tr>\n",
       "      <th>1</th>\n",
       "      <td>train_9000001</td>\n",
       "      <td>226.658021</td>\n",
       "      <td>234.510084</td>\n",
       "      <td>243.247596</td>\n",
       "      <td>252.535270</td>\n",
       "      <td>254.935951</td>\n",
       "      <td>251.845118</td>\n",
       "      <td>247.500609</td>\n",
       "      <td>240.504805</td>\n",
       "      <td>232.649174</td>\n",
       "      <td>...</td>\n",
       "      <td>-0.000005</td>\n",
       "      <td>-3.834357e-07</td>\n",
       "      <td>2.066740</td>\n",
       "      <td>394.548169</td>\n",
       "      <td>0.0</td>\n",
       "      <td>3.509736e-07</td>\n",
       "      <td>6.302819e-109</td>\n",
       "      <td>1.042616e-115</td>\n",
       "      <td>1.410791</td>\n",
       "      <td>0.787869</td>\n",
       "    </tr>\n",
       "    <tr>\n",
       "      <th>2</th>\n",
       "      <td>train_9000002</td>\n",
       "      <td>221.930221</td>\n",
       "      <td>234.732512</td>\n",
       "      <td>241.927382</td>\n",
       "      <td>254.006302</td>\n",
       "      <td>257.955588</td>\n",
       "      <td>257.775459</td>\n",
       "      <td>250.871545</td>\n",
       "      <td>242.399751</td>\n",
       "      <td>234.719555</td>\n",
       "      <td>...</td>\n",
       "      <td>0.000015</td>\n",
       "      <td>-2.440803e-06</td>\n",
       "      <td>0.000000</td>\n",
       "      <td>423.169698</td>\n",
       "      <td>0.0</td>\n",
       "      <td>2.874809e-07</td>\n",
       "      <td>0.000000e+00</td>\n",
       "      <td>0.000000e+00</td>\n",
       "      <td>0.000000</td>\n",
       "      <td>0.000000</td>\n",
       "    </tr>\n",
       "    <tr>\n",
       "      <th>3</th>\n",
       "      <td>train_9000003</td>\n",
       "      <td>225.234667</td>\n",
       "      <td>234.225378</td>\n",
       "      <td>239.130493</td>\n",
       "      <td>249.130772</td>\n",
       "      <td>255.764547</td>\n",
       "      <td>255.728177</td>\n",
       "      <td>249.299796</td>\n",
       "      <td>241.777471</td>\n",
       "      <td>234.959802</td>\n",
       "      <td>...</td>\n",
       "      <td>-0.000037</td>\n",
       "      <td>-6.163830e-05</td>\n",
       "      <td>8.975597</td>\n",
       "      <td>422.637307</td>\n",
       "      <td>0.0</td>\n",
       "      <td>6.668272e-08</td>\n",
       "      <td>6.987038e-02</td>\n",
       "      <td>4.189942e-04</td>\n",
       "      <td>6.304667</td>\n",
       "      <td>3.194637</td>\n",
       "    </tr>\n",
       "    <tr>\n",
       "      <th>4</th>\n",
       "      <td>train_9000004</td>\n",
       "      <td>222.270168</td>\n",
       "      <td>232.543857</td>\n",
       "      <td>240.553778</td>\n",
       "      <td>246.505728</td>\n",
       "      <td>254.593591</td>\n",
       "      <td>251.873290</td>\n",
       "      <td>246.540331</td>\n",
       "      <td>239.906517</td>\n",
       "      <td>232.537145</td>\n",
       "      <td>...</td>\n",
       "      <td>0.000036</td>\n",
       "      <td>-4.849926e-05</td>\n",
       "      <td>15.367383</td>\n",
       "      <td>387.194280</td>\n",
       "      <td>0.0</td>\n",
       "      <td>2.552543e-08</td>\n",
       "      <td>1.929868e-13</td>\n",
       "      <td>2.413022e-16</td>\n",
       "      <td>10.397550</td>\n",
       "      <td>5.950729</td>\n",
       "    </tr>\n",
       "  </tbody>\n",
       "</table>\n",
       "<p>5 rows × 925 columns</p>\n",
       "</div>"
      ],
      "text/plain": [
       "       sample_id   state_t_0   state_t_1   state_t_2   state_t_3   state_t_4  \\\n",
       "0  train_9000000  220.335448  241.126010  247.123992  254.698078  255.908976   \n",
       "1  train_9000001  226.658021  234.510084  243.247596  252.535270  254.935951   \n",
       "2  train_9000002  221.930221  234.732512  241.927382  254.006302  257.955588   \n",
       "3  train_9000003  225.234667  234.225378  239.130493  249.130772  255.764547   \n",
       "4  train_9000004  222.270168  232.543857  240.553778  246.505728  254.593591   \n",
       "\n",
       "    state_t_5   state_t_6   state_t_7   state_t_8  ...  ptend_v_58  \\\n",
       "0  254.075383  248.748783  240.927043  233.029205  ...   -0.000008   \n",
       "1  251.845118  247.500609  240.504805  232.649174  ...   -0.000005   \n",
       "2  257.775459  250.871545  242.399751  234.719555  ...    0.000015   \n",
       "3  255.728177  249.299796  241.777471  234.959802  ...   -0.000037   \n",
       "4  251.873290  246.540331  239.906517  232.537145  ...    0.000036   \n",
       "\n",
       "     ptend_v_59  cam_out_NETSW  cam_out_FLWDS  cam_out_PRECSC  cam_out_PRECC  \\\n",
       "0  1.473562e-05       0.000000     387.926810             0.0   2.615084e-09   \n",
       "1 -3.834357e-07       2.066740     394.548169             0.0   3.509736e-07   \n",
       "2 -2.440803e-06       0.000000     423.169698             0.0   2.874809e-07   \n",
       "3 -6.163830e-05       8.975597     422.637307             0.0   6.668272e-08   \n",
       "4 -4.849926e-05      15.367383     387.194280             0.0   2.552543e-08   \n",
       "\n",
       "    cam_out_SOLS   cam_out_SOLL  cam_out_SOLSD  cam_out_SOLLD  \n",
       "0   0.000000e+00   0.000000e+00       0.000000       0.000000  \n",
       "1  6.302819e-109  1.042616e-115       1.410791       0.787869  \n",
       "2   0.000000e+00   0.000000e+00       0.000000       0.000000  \n",
       "3   6.987038e-02   4.189942e-04       6.304667       3.194637  \n",
       "4   1.929868e-13   2.413022e-16      10.397550       5.950729  \n",
       "\n",
       "[5 rows x 925 columns]"
      ]
     },
     "execution_count": 4,
     "metadata": {},
     "output_type": "execute_result"
    }
   ],
   "source": [
    "# Step 1: Read the first Parquet file to get the column headers\n",
    "df_with_headers = pd.read_parquet(batch09_file_path)\n",
    "headers = df_with_headers.columns.tolist()\n",
    "\n",
    "del df_with_headers\n",
    "\n",
    "# Step 2: Read the second Parquet file without headers\n",
    "# Use header=None to indicate there are no headers in the file\n",
    "df_without_headers = pd.read_parquet(batch10_file_path, engine='pyarrow')\n",
    "\n",
    "# Step 3: Assign the headers from the first DataFrame to the second DataFrame\n",
    "df_without_headers.columns = headers\n",
    "df_without_headers.head()"
   ]
  },
  {
   "cell_type": "code",
   "execution_count": 5,
   "id": "8956eb5d",
   "metadata": {
    "execution": {
     "iopub.execute_input": "2024-06-02T15:24:38.605043Z",
     "iopub.status.busy": "2024-06-02T15:24:38.603363Z",
     "iopub.status.idle": "2024-06-02T15:25:46.984868Z",
     "shell.execute_reply": "2024-06-02T15:25:46.983526Z"
    },
    "papermill": {
     "duration": 68.400115,
     "end_time": "2024-06-02T15:25:46.995740",
     "exception": false,
     "start_time": "2024-06-02T15:24:38.595625",
     "status": "completed"
    },
    "tags": []
   },
   "outputs": [
    {
     "name": "stdout",
     "output_type": "stream",
     "text": [
      "DataFrame saved to /kaggle/working/leap_train_batch_10_v02.parquet\n"
     ]
    }
   ],
   "source": [
    "# Step 4: Save the modified DataFrame to a new Parquet file\n",
    "df_without_headers.to_parquet(output_parquet)\n",
    "\n",
    "print(f'DataFrame saved to {output_parquet}')"
   ]
  },
  {
   "cell_type": "code",
   "execution_count": null,
   "id": "84e68220",
   "metadata": {
    "papermill": {
     "duration": 0.004137,
     "end_time": "2024-06-02T15:25:47.025136",
     "exception": false,
     "start_time": "2024-06-02T15:25:47.020999",
     "status": "completed"
    },
    "tags": []
   },
   "outputs": [],
   "source": []
  }
 ],
 "metadata": {
  "kaggle": {
   "accelerator": "none",
   "dataSources": [
    {
     "sourceId": 180245933,
     "sourceType": "kernelVersion"
    },
    {
     "sourceId": 180247357,
     "sourceType": "kernelVersion"
    }
   ],
   "dockerImageVersionId": 30715,
   "isGpuEnabled": false,
   "isInternetEnabled": true,
   "language": "python",
   "sourceType": "notebook"
  },
  "kernelspec": {
   "display_name": "Python 3",
   "language": "python",
   "name": "python3"
  },
  "language_info": {
   "codemirror_mode": {
    "name": "ipython",
    "version": 3
   },
   "file_extension": ".py",
   "mimetype": "text/x-python",
   "name": "python",
   "nbconvert_exporter": "python",
   "pygments_lexer": "ipython3",
   "version": "3.10.13"
  },
  "papermill": {
   "default_parameters": {},
   "duration": 215.408971,
   "end_time": "2024-06-02T15:25:49.484430",
   "environment_variables": {},
   "exception": null,
   "input_path": "__notebook__.ipynb",
   "output_path": "__notebook__.ipynb",
   "parameters": {},
   "start_time": "2024-06-02T15:22:14.075459",
   "version": "2.5.0"
  }
 },
 "nbformat": 4,
 "nbformat_minor": 5
}
