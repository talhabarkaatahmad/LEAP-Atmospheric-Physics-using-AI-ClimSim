{
 "cells": [
  {
   "cell_type": "code",
   "execution_count": 1,
   "id": "bc8c6752",
   "metadata": {
    "execution": {
     "iopub.execute_input": "2024-05-28T11:58:03.082053Z",
     "iopub.status.busy": "2024-05-28T11:58:03.081431Z",
     "iopub.status.idle": "2024-05-28T11:58:03.419280Z",
     "shell.execute_reply": "2024-05-28T11:58:03.417935Z"
    },
    "papermill": {
     "duration": 0.349205,
     "end_time": "2024-05-28T11:58:03.423012",
     "exception": false,
     "start_time": "2024-05-28T11:58:03.073807",
     "status": "completed"
    },
    "tags": []
   },
   "outputs": [],
   "source": [
    "import polars as pl\n",
    "import os\n",
    "\n",
    "total_rows = 10091520\n",
    "\n",
    "# Define the file path to your CSV file\n",
    "csv_file_path = \"/kaggle/input/leap-atmospheric-physics-ai-climsim/train.csv\"\n",
    "\n",
    "# Number of rows to read in each batch\n",
    "batch_size = 1000000"
   ]
  },
  {
   "cell_type": "code",
   "execution_count": 2,
   "id": "70faee4c",
   "metadata": {
    "execution": {
     "iopub.execute_input": "2024-05-28T11:58:03.434948Z",
     "iopub.status.busy": "2024-05-28T11:58:03.434426Z",
     "iopub.status.idle": "2024-05-28T11:58:03.525375Z",
     "shell.execute_reply": "2024-05-28T11:58:03.524132Z"
    },
    "papermill": {
     "duration": 0.100163,
     "end_time": "2024-05-28T11:58:03.528279",
     "exception": false,
     "start_time": "2024-05-28T11:58:03.428116",
     "status": "completed"
    },
    "tags": []
   },
   "outputs": [
    {
     "data": {
      "text/plain": [
       "0"
      ]
     },
     "execution_count": 2,
     "metadata": {},
     "output_type": "execute_result"
    }
   ],
   "source": [
    "import gc\n",
    "gc.collect()"
   ]
  },
  {
   "cell_type": "code",
   "execution_count": 3,
   "id": "c99bae20",
   "metadata": {
    "execution": {
     "iopub.execute_input": "2024-05-28T11:58:03.539670Z",
     "iopub.status.busy": "2024-05-28T11:58:03.539212Z",
     "iopub.status.idle": "2024-05-28T11:58:03.618157Z",
     "shell.execute_reply": "2024-05-28T11:58:03.616591Z"
    },
    "papermill": {
     "duration": 0.088495,
     "end_time": "2024-05-28T11:58:03.621424",
     "exception": false,
     "start_time": "2024-05-28T11:58:03.532929",
     "status": "completed"
    },
    "tags": []
   },
   "outputs": [],
   "source": [
    "# Create a CSV reader with the specified batch size\n",
    "reader = pl.read_csv_batched(csv_file_path, batch_size=batch_size)"
   ]
  },
  {
   "cell_type": "code",
   "execution_count": 4,
   "id": "baf01da3",
   "metadata": {
    "execution": {
     "iopub.execute_input": "2024-05-28T11:58:03.632876Z",
     "iopub.status.busy": "2024-05-28T11:58:03.632375Z",
     "iopub.status.idle": "2024-05-28T12:02:28.177594Z",
     "shell.execute_reply": "2024-05-28T12:02:28.174947Z"
    },
    "papermill": {
     "duration": 264.557223,
     "end_time": "2024-05-28T12:02:28.183425",
     "exception": false,
     "start_time": "2024-05-28T11:58:03.626202",
     "status": "completed"
    },
    "tags": []
   },
   "outputs": [],
   "source": [
    "# 1,2\n",
    "batches = reader.next_batches(2)"
   ]
  },
  {
   "cell_type": "code",
   "execution_count": 5,
   "id": "34d673f4",
   "metadata": {
    "execution": {
     "iopub.execute_input": "2024-05-28T12:02:28.198378Z",
     "iopub.status.busy": "2024-05-28T12:02:28.197951Z",
     "iopub.status.idle": "2024-05-28T12:06:37.692548Z",
     "shell.execute_reply": "2024-05-28T12:06:37.687129Z"
    },
    "papermill": {
     "duration": 249.508152,
     "end_time": "2024-05-28T12:06:37.698918",
     "exception": false,
     "start_time": "2024-05-28T12:02:28.190766",
     "status": "completed"
    },
    "tags": []
   },
   "outputs": [],
   "source": [
    "# 3\n",
    "batches = reader.next_batches(1)"
   ]
  },
  {
   "cell_type": "code",
   "execution_count": 6,
   "id": "263fe304",
   "metadata": {
    "execution": {
     "iopub.execute_input": "2024-05-28T12:06:37.728288Z",
     "iopub.status.busy": "2024-05-28T12:06:37.726312Z",
     "iopub.status.idle": "2024-05-28T12:10:57.111538Z",
     "shell.execute_reply": "2024-05-28T12:10:57.106909Z"
    },
    "papermill": {
     "duration": 259.407692,
     "end_time": "2024-05-28T12:10:57.117003",
     "exception": false,
     "start_time": "2024-05-28T12:06:37.709311",
     "status": "completed"
    },
    "tags": []
   },
   "outputs": [],
   "source": [
    "# 4\n",
    "batches = reader.next_batches(1)"
   ]
  },
  {
   "cell_type": "code",
   "execution_count": 7,
   "id": "4553e2e6",
   "metadata": {
    "execution": {
     "iopub.execute_input": "2024-05-28T12:10:57.137269Z",
     "iopub.status.busy": "2024-05-28T12:10:57.136024Z",
     "iopub.status.idle": "2024-05-28T12:15:10.928748Z",
     "shell.execute_reply": "2024-05-28T12:15:10.922209Z"
    },
    "papermill": {
     "duration": 253.809459,
     "end_time": "2024-05-28T12:15:10.936113",
     "exception": false,
     "start_time": "2024-05-28T12:10:57.126654",
     "status": "completed"
    },
    "tags": []
   },
   "outputs": [],
   "source": [
    "# 5\n",
    "batches = reader.next_batches(1)"
   ]
  },
  {
   "cell_type": "code",
   "execution_count": 8,
   "id": "9041462e",
   "metadata": {
    "execution": {
     "iopub.execute_input": "2024-05-28T12:15:10.956648Z",
     "iopub.status.busy": "2024-05-28T12:15:10.955654Z",
     "iopub.status.idle": "2024-05-28T12:15:11.027093Z",
     "shell.execute_reply": "2024-05-28T12:15:11.024121Z"
    },
    "papermill": {
     "duration": 0.085027,
     "end_time": "2024-05-28T12:15:11.030839",
     "exception": false,
     "start_time": "2024-05-28T12:15:10.945812",
     "status": "completed"
    },
    "tags": []
   },
   "outputs": [
    {
     "data": {
      "text/plain": [
       "[shape: (983_227, 925)\n",
       " ┌───────────┬───────────┬───────────┬───────────┬───┬───────────┬───────────┬───────────┬──────────┐\n",
       " │ sample_id ┆ state_t_0 ┆ state_t_1 ┆ state_t_2 ┆ … ┆ cam_out_S ┆ cam_out_S ┆ cam_out_S ┆ cam_out_ │\n",
       " │ ---       ┆ ---       ┆ ---       ┆ ---       ┆   ┆ OLS       ┆ OLL       ┆ OLSD      ┆ SOLLD    │\n",
       " │ str       ┆ f64       ┆ f64       ┆ f64       ┆   ┆ ---       ┆ ---       ┆ ---       ┆ ---      │\n",
       " │           ┆           ┆           ┆           ┆   ┆ f64       ┆ f64       ┆ f64       ┆ f64      │\n",
       " ╞═══════════╪═══════════╪═══════════╪═══════════╪═══╪═══════════╪═══════════╪═══════════╪══════════╡\n",
       " │ train_393 ┆ 220.12480 ┆ 239.97518 ┆ 246.57229 ┆ … ┆ 0.0       ┆ 0.0       ┆ 0.0       ┆ 0.0      │\n",
       " │ 5188      ┆ 9         ┆ 5         ┆ 3         ┆   ┆           ┆           ┆           ┆          │\n",
       " │ train_393 ┆ 217.20776 ┆ 236.92666 ┆ 241.87785 ┆ … ┆ 0.0       ┆ 0.0       ┆ 0.0       ┆ 0.0      │\n",
       " │ 5189      ┆ 7         ┆ 8         ┆ 1         ┆   ┆           ┆           ┆           ┆          │\n",
       " │ train_393 ┆ 220.29559 ┆ 240.74495 ┆ 246.88194 ┆ … ┆ 0.0       ┆ 0.0       ┆ 0.0       ┆ 0.0      │\n",
       " │ 5190      ┆ 8         ┆ 9         ┆ 8         ┆   ┆           ┆           ┆           ┆          │\n",
       " │ train_393 ┆ 218.02193 ┆ 237.62181 ┆ 243.04661 ┆ … ┆ 0.0       ┆ 0.0       ┆ 0.0       ┆ 0.0      │\n",
       " │ 5191      ┆ 3         ┆ 6         ┆           ┆   ┆           ┆           ┆           ┆          │\n",
       " │ train_393 ┆ 216.62024 ┆ 235.78487 ┆ 241.45819 ┆ … ┆ 0.0       ┆ 0.0       ┆ 0.0       ┆ 0.0      │\n",
       " │ 5192      ┆ 8         ┆ 7         ┆ 3         ┆   ┆           ┆           ┆           ┆          │\n",
       " │ …         ┆ …         ┆ …         ┆ …         ┆ … ┆ …         ┆ …         ┆ …         ┆ …        │\n",
       " │ train_491 ┆ 201.64102 ┆ 224.50257 ┆ 234.61890 ┆ … ┆ 0.0       ┆ 0.0       ┆ 0.0       ┆ 0.0      │\n",
       " │ 8410      ┆ 4         ┆ 3         ┆ 8         ┆   ┆           ┆           ┆           ┆          │\n",
       " │ train_491 ┆ 205.71662 ┆ 223.96337 ┆ 237.91686 ┆ … ┆ 0.0       ┆ 0.0       ┆ 0.0       ┆ 0.0      │\n",
       " │ 8411      ┆ 2         ┆ 2         ┆ 7         ┆   ┆           ┆           ┆           ┆          │\n",
       " │ train_491 ┆ 205.47578 ┆ 228.91709 ┆ 235.75843 ┆ … ┆ 0.0       ┆ 0.0       ┆ 0.0       ┆ 0.0      │\n",
       " │ 8412      ┆ 5         ┆ 1         ┆ 5         ┆   ┆           ┆           ┆           ┆          │\n",
       " │ train_491 ┆ 208.07736 ┆ 229.51621 ┆ 242.04802 ┆ … ┆ 0.0       ┆ 0.0       ┆ 0.0       ┆ 0.0      │\n",
       " │ 8413      ┆ 1         ┆ 4         ┆ 2         ┆   ┆           ┆           ┆           ┆          │\n",
       " │ train_491 ┆ 209.79654 ┆ 227.77725 ┆ 242.57957 ┆ … ┆ 0.0       ┆ 0.0       ┆ 0.0       ┆ 0.0      │\n",
       " │ 8414      ┆ 9         ┆ 8         ┆ 8         ┆   ┆           ┆           ┆           ┆          │\n",
       " └───────────┴───────────┴───────────┴───────────┴───┴───────────┴───────────┴───────────┴──────────┘]"
      ]
     },
     "execution_count": 8,
     "metadata": {},
     "output_type": "execute_result"
    }
   ],
   "source": [
    "batches"
   ]
  },
  {
   "cell_type": "code",
   "execution_count": 9,
   "id": "c8fa3d27",
   "metadata": {
    "execution": {
     "iopub.execute_input": "2024-05-28T12:15:11.044468Z",
     "iopub.status.busy": "2024-05-28T12:15:11.042693Z",
     "iopub.status.idle": "2024-05-28T12:16:11.642628Z",
     "shell.execute_reply": "2024-05-28T12:16:11.641096Z"
    },
    "papermill": {
     "duration": 60.616735,
     "end_time": "2024-05-28T12:16:11.652550",
     "exception": false,
     "start_time": "2024-05-28T12:15:11.035815",
     "status": "completed"
    },
    "tags": []
   },
   "outputs": [
    {
     "name": "stdout",
     "output_type": "stream",
     "text": [
      "Batch 5 saved to leap_train_batch_5.parquet\n"
     ]
    }
   ],
   "source": [
    "# Initialize a counter to track batches\n",
    "batch_counter = 4\n",
    "\n",
    "\n",
    "parquet_file_path = f'leap_train_batch_{batch_counter + 1}.parquet'\n",
    "batches[0].write_parquet(parquet_file_path)\n",
    "print(f'Batch {batch_counter + 1} saved to {parquet_file_path}')"
   ]
  },
  {
   "cell_type": "code",
   "execution_count": null,
   "id": "e63c11b3",
   "metadata": {
    "papermill": {
     "duration": 0.005038,
     "end_time": "2024-05-28T12:16:11.664659",
     "exception": false,
     "start_time": "2024-05-28T12:16:11.659621",
     "status": "completed"
    },
    "tags": []
   },
   "outputs": [],
   "source": []
  }
 ],
 "metadata": {
  "kaggle": {
   "accelerator": "none",
   "dataSources": [
    {
     "databundleVersionId": 8015876,
     "sourceId": 56537,
     "sourceType": "competition"
    }
   ],
   "isGpuEnabled": false,
   "isInternetEnabled": true,
   "language": "python",
   "sourceType": "notebook"
  },
  "kernelspec": {
   "display_name": "Python 3",
   "language": "python",
   "name": "python3"
  },
  "language_info": {
   "codemirror_mode": {
    "name": "ipython",
    "version": 3
   },
   "file_extension": ".py",
   "mimetype": "text/x-python",
   "name": "python",
   "nbconvert_exporter": "python",
   "pygments_lexer": "ipython3",
   "version": "3.10.13"
  },
  "papermill": {
   "default_parameters": {},
   "duration": 1094.67197,
   "end_time": "2024-05-28T12:16:14.255561",
   "environment_variables": {},
   "exception": null,
   "input_path": "__notebook__.ipynb",
   "output_path": "__notebook__.ipynb",
   "parameters": {},
   "start_time": "2024-05-28T11:57:59.583591",
   "version": "2.5.0"
  }
 },
 "nbformat": 4,
 "nbformat_minor": 5
}
