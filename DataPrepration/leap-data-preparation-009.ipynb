{
 "cells": [
  {
   "cell_type": "code",
   "execution_count": 1,
   "id": "03ce7e83",
   "metadata": {
    "execution": {
     "iopub.execute_input": "2024-05-28T12:31:44.763272Z",
     "iopub.status.busy": "2024-05-28T12:31:44.762706Z",
     "iopub.status.idle": "2024-05-28T12:31:45.081354Z",
     "shell.execute_reply": "2024-05-28T12:31:45.080166Z"
    },
    "papermill": {
     "duration": 0.327989,
     "end_time": "2024-05-28T12:31:45.084498",
     "exception": false,
     "start_time": "2024-05-28T12:31:44.756509",
     "status": "completed"
    },
    "tags": []
   },
   "outputs": [],
   "source": [
    "import polars as pl\n",
    "import os\n",
    "\n",
    "total_rows = 10091520\n",
    "\n",
    "# Define the file path to your CSV file\n",
    "csv_file_path = \"/kaggle/input/leap-atmospheric-physics-ai-climsim/train.csv\"\n",
    "\n",
    "# Number of rows to read in each batch\n",
    "batch_size = 1000000"
   ]
  },
  {
   "cell_type": "code",
   "execution_count": 2,
   "id": "046610fd",
   "metadata": {
    "execution": {
     "iopub.execute_input": "2024-05-28T12:31:45.094434Z",
     "iopub.status.busy": "2024-05-28T12:31:45.094032Z",
     "iopub.status.idle": "2024-05-28T12:31:45.154761Z",
     "shell.execute_reply": "2024-05-28T12:31:45.153387Z"
    },
    "papermill": {
     "duration": 0.069627,
     "end_time": "2024-05-28T12:31:45.158186",
     "exception": false,
     "start_time": "2024-05-28T12:31:45.088559",
     "status": "completed"
    },
    "tags": []
   },
   "outputs": [
    {
     "data": {
      "text/plain": [
       "0"
      ]
     },
     "execution_count": 2,
     "metadata": {},
     "output_type": "execute_result"
    }
   ],
   "source": [
    "import gc\n",
    "gc.collect()"
   ]
  },
  {
   "cell_type": "code",
   "execution_count": 3,
   "id": "732c529f",
   "metadata": {
    "execution": {
     "iopub.execute_input": "2024-05-28T12:31:45.168225Z",
     "iopub.status.busy": "2024-05-28T12:31:45.167795Z",
     "iopub.status.idle": "2024-05-28T12:31:45.246076Z",
     "shell.execute_reply": "2024-05-28T12:31:45.244500Z"
    },
    "papermill": {
     "duration": 0.087017,
     "end_time": "2024-05-28T12:31:45.249267",
     "exception": false,
     "start_time": "2024-05-28T12:31:45.162250",
     "status": "completed"
    },
    "tags": []
   },
   "outputs": [],
   "source": [
    "# Create a CSV reader with the specified batch size\n",
    "reader = pl.read_csv_batched(csv_file_path, batch_size=batch_size)"
   ]
  },
  {
   "cell_type": "code",
   "execution_count": 4,
   "id": "3d8cda9a",
   "metadata": {
    "execution": {
     "iopub.execute_input": "2024-05-28T12:31:45.259698Z",
     "iopub.status.busy": "2024-05-28T12:31:45.259315Z",
     "iopub.status.idle": "2024-05-28T12:36:52.697392Z",
     "shell.execute_reply": "2024-05-28T12:36:52.693649Z"
    },
    "papermill": {
     "duration": 307.45031,
     "end_time": "2024-05-28T12:36:52.703853",
     "exception": false,
     "start_time": "2024-05-28T12:31:45.253543",
     "status": "completed"
    },
    "tags": []
   },
   "outputs": [],
   "source": [
    "# 1,2\n",
    "batches = reader.next_batches(2)"
   ]
  },
  {
   "cell_type": "code",
   "execution_count": 5,
   "id": "9b0e3c3c",
   "metadata": {
    "execution": {
     "iopub.execute_input": "2024-05-28T12:36:52.720815Z",
     "iopub.status.busy": "2024-05-28T12:36:52.720364Z",
     "iopub.status.idle": "2024-05-28T12:41:18.246877Z",
     "shell.execute_reply": "2024-05-28T12:41:18.243462Z"
    },
    "papermill": {
     "duration": 265.538141,
     "end_time": "2024-05-28T12:41:18.251372",
     "exception": false,
     "start_time": "2024-05-28T12:36:52.713231",
     "status": "completed"
    },
    "tags": []
   },
   "outputs": [],
   "source": [
    "# 3\n",
    "batches = reader.next_batches(1)"
   ]
  },
  {
   "cell_type": "code",
   "execution_count": 6,
   "id": "96771096",
   "metadata": {
    "execution": {
     "iopub.execute_input": "2024-05-28T12:41:18.268650Z",
     "iopub.status.busy": "2024-05-28T12:41:18.266107Z",
     "iopub.status.idle": "2024-05-28T12:46:07.582646Z",
     "shell.execute_reply": "2024-05-28T12:46:07.579800Z"
    },
    "papermill": {
     "duration": 289.329784,
     "end_time": "2024-05-28T12:46:07.587122",
     "exception": false,
     "start_time": "2024-05-28T12:41:18.257338",
     "status": "completed"
    },
    "tags": []
   },
   "outputs": [],
   "source": [
    "# 4\n",
    "batches = reader.next_batches(1)"
   ]
  },
  {
   "cell_type": "code",
   "execution_count": 7,
   "id": "16ebc24b",
   "metadata": {
    "execution": {
     "iopub.execute_input": "2024-05-28T12:46:07.604457Z",
     "iopub.status.busy": "2024-05-28T12:46:07.603673Z",
     "iopub.status.idle": "2024-05-28T12:50:37.025490Z",
     "shell.execute_reply": "2024-05-28T12:50:37.022795Z"
    },
    "papermill": {
     "duration": 269.435236,
     "end_time": "2024-05-28T12:50:37.030208",
     "exception": false,
     "start_time": "2024-05-28T12:46:07.594972",
     "status": "completed"
    },
    "tags": []
   },
   "outputs": [],
   "source": [
    "# 5\n",
    "batches = reader.next_batches(1)"
   ]
  },
  {
   "cell_type": "code",
   "execution_count": 8,
   "id": "97f9c6c4",
   "metadata": {
    "execution": {
     "iopub.execute_input": "2024-05-28T12:50:37.049855Z",
     "iopub.status.busy": "2024-05-28T12:50:37.047597Z",
     "iopub.status.idle": "2024-05-28T12:57:01.298590Z",
     "shell.execute_reply": "2024-05-28T12:57:01.293628Z"
    },
    "papermill": {
     "duration": 384.266257,
     "end_time": "2024-05-28T12:57:01.304686",
     "exception": false,
     "start_time": "2024-05-28T12:50:37.038429",
     "status": "completed"
    },
    "tags": []
   },
   "outputs": [],
   "source": [
    "# 6\n",
    "batches = reader.next_batches(1)"
   ]
  },
  {
   "cell_type": "code",
   "execution_count": 9,
   "id": "9f25bc32",
   "metadata": {
    "execution": {
     "iopub.execute_input": "2024-05-28T12:57:01.323478Z",
     "iopub.status.busy": "2024-05-28T12:57:01.321545Z",
     "iopub.status.idle": "2024-05-28T13:01:53.028622Z",
     "shell.execute_reply": "2024-05-28T13:01:53.026038Z"
    },
    "papermill": {
     "duration": 291.720066,
     "end_time": "2024-05-28T13:01:53.032851",
     "exception": false,
     "start_time": "2024-05-28T12:57:01.312785",
     "status": "completed"
    },
    "tags": []
   },
   "outputs": [],
   "source": [
    "# 7\n",
    "batches = reader.next_batches(1)"
   ]
  },
  {
   "cell_type": "code",
   "execution_count": 10,
   "id": "608d9e73",
   "metadata": {
    "execution": {
     "iopub.execute_input": "2024-05-28T13:01:53.046709Z",
     "iopub.status.busy": "2024-05-28T13:01:53.045609Z",
     "iopub.status.idle": "2024-05-28T13:06:38.834331Z",
     "shell.execute_reply": "2024-05-28T13:06:38.831994Z"
    },
    "papermill": {
     "duration": 285.800304,
     "end_time": "2024-05-28T13:06:38.839238",
     "exception": false,
     "start_time": "2024-05-28T13:01:53.038934",
     "status": "completed"
    },
    "tags": []
   },
   "outputs": [],
   "source": [
    "# 8\n",
    "batches = reader.next_batches(1)"
   ]
  },
  {
   "cell_type": "code",
   "execution_count": 11,
   "id": "ab562542",
   "metadata": {
    "execution": {
     "iopub.execute_input": "2024-05-28T13:06:38.858841Z",
     "iopub.status.busy": "2024-05-28T13:06:38.856755Z",
     "iopub.status.idle": "2024-05-28T13:11:08.200684Z",
     "shell.execute_reply": "2024-05-28T13:11:08.197992Z"
    },
    "papermill": {
     "duration": 269.35768,
     "end_time": "2024-05-28T13:11:08.205402",
     "exception": false,
     "start_time": "2024-05-28T13:06:38.847722",
     "status": "completed"
    },
    "tags": []
   },
   "outputs": [],
   "source": [
    "# 9\n",
    "batches = reader.next_batches(1)"
   ]
  },
  {
   "cell_type": "code",
   "execution_count": 12,
   "id": "9452436a",
   "metadata": {
    "execution": {
     "iopub.execute_input": "2024-05-28T13:11:08.224883Z",
     "iopub.status.busy": "2024-05-28T13:11:08.223857Z",
     "iopub.status.idle": "2024-05-28T13:11:08.306015Z",
     "shell.execute_reply": "2024-05-28T13:11:08.303993Z"
    },
    "papermill": {
     "duration": 0.101061,
     "end_time": "2024-05-28T13:11:08.315210",
     "exception": false,
     "start_time": "2024-05-28T13:11:08.214149",
     "status": "completed"
    },
    "tags": []
   },
   "outputs": [
    {
     "data": {
      "text/plain": [
       "[shape: (983_900, 925)\n",
       " ┌───────────┬───────────┬───────────┬───────────┬───┬───────────┬───────────┬───────────┬──────────┐\n",
       " │ sample_id ┆ state_t_0 ┆ state_t_1 ┆ state_t_2 ┆ … ┆ cam_out_S ┆ cam_out_S ┆ cam_out_S ┆ cam_out_ │\n",
       " │ ---       ┆ ---       ┆ ---       ┆ ---       ┆   ┆ OLS       ┆ OLL       ┆ OLSD      ┆ SOLLD    │\n",
       " │ str       ┆ f64       ┆ f64       ┆ f64       ┆   ┆ ---       ┆ ---       ┆ ---       ┆ ---      │\n",
       " │           ┆           ┆           ┆           ┆   ┆ f64       ┆ f64       ┆ f64       ┆ f64      │\n",
       " ╞═══════════╪═══════════╪═══════════╪═══════════╪═══╪═══════════╪═══════════╪═══════════╪══════════╡\n",
       " │ train_786 ┆ 198.10729 ┆ 221.67338 ┆ 225.64002 ┆ … ┆ 15.157592 ┆ 18.624928 ┆ 22.897553 ┆ 9.352332 │\n",
       " │ 9384      ┆ 7         ┆ 1         ┆           ┆   ┆           ┆           ┆           ┆          │\n",
       " │ train_786 ┆ 203.06294 ┆ 227.41992 ┆ 231.87393 ┆ … ┆ 0.671841  ┆ 4.235688  ┆ 4.267177  ┆ 2.07524  │\n",
       " │ 9385      ┆ 6         ┆ 2         ┆ 1         ┆   ┆           ┆           ┆           ┆          │\n",
       " │ train_786 ┆ 203.31632 ┆ 206.14265 ┆ 214.45910 ┆ … ┆ 51.671847 ┆ 83.932403 ┆ 33.341238 ┆ 9.195954 │\n",
       " │ 9386      ┆ 5         ┆ 7         ┆ 3         ┆   ┆           ┆           ┆           ┆          │\n",
       " │ train_786 ┆ 204.98159 ┆ 215.28926 ┆ 223.20895 ┆ … ┆ 18.438675 ┆ 37.672449 ┆ 20.615667 ┆ 4.514325 │\n",
       " │ 9387      ┆ 4         ┆           ┆ 9         ┆   ┆           ┆           ┆           ┆          │\n",
       " │ train_786 ┆ 204.51129 ┆ 225.08300 ┆ 233.97832 ┆ … ┆ 0.0       ┆ 0.0       ┆ 0.0       ┆ 0.0      │\n",
       " │ 9388      ┆ 1         ┆ 6         ┆ 7         ┆   ┆           ┆           ┆           ┆          │\n",
       " │ …         ┆ …         ┆ …         ┆ …         ┆ … ┆ …         ┆ …         ┆ …         ┆ …        │\n",
       " │ train_885 ┆ 223.74462 ┆ 228.99995 ┆ 244.91720 ┆ … ┆ 0.0       ┆ 0.0       ┆ 0.0       ┆ 0.0      │\n",
       " │ 3279      ┆ 5         ┆ 6         ┆ 7         ┆   ┆           ┆           ┆           ┆          │\n",
       " │ train_885 ┆ 221.92208 ┆ 232.53820 ┆ 238.01722 ┆ … ┆ 0.0       ┆ 0.0       ┆ 0.0       ┆ 0.0      │\n",
       " │ 3280      ┆ 5         ┆ 2         ┆ 6         ┆   ┆           ┆           ┆           ┆          │\n",
       " │ train_885 ┆ 221.77457 ┆ 236.03497 ┆ 241.22559 ┆ … ┆ 0.0       ┆ 0.0       ┆ 0.0       ┆ 0.0      │\n",
       " │ 3281      ┆ 7         ┆ 5         ┆ 3         ┆   ┆           ┆           ┆           ┆          │\n",
       " │ train_885 ┆ 224.41938 ┆ 228.76889 ┆ 241.04237 ┆ … ┆ 0.0       ┆ 0.0       ┆ 0.0       ┆ 0.0      │\n",
       " │ 3282      ┆ 7         ┆ 1         ┆ 3         ┆   ┆           ┆           ┆           ┆          │\n",
       " │ train_885 ┆ 223.54837 ┆ 228.84135 ┆ 241.93908 ┆ … ┆ 0.0       ┆ 0.0       ┆ 0.0       ┆ 0.0      │\n",
       " │ 3283      ┆ 2         ┆ 6         ┆           ┆   ┆           ┆           ┆           ┆          │\n",
       " └───────────┴───────────┴───────────┴───────────┴───┴───────────┴───────────┴───────────┴──────────┘]"
      ]
     },
     "execution_count": 12,
     "metadata": {},
     "output_type": "execute_result"
    }
   ],
   "source": [
    "batches"
   ]
  },
  {
   "cell_type": "code",
   "execution_count": 13,
   "id": "5328e171",
   "metadata": {
    "execution": {
     "iopub.execute_input": "2024-05-28T13:11:08.335180Z",
     "iopub.status.busy": "2024-05-28T13:11:08.333114Z",
     "iopub.status.idle": "2024-05-28T13:12:06.664064Z",
     "shell.execute_reply": "2024-05-28T13:12:06.662514Z"
    },
    "papermill": {
     "duration": 58.348065,
     "end_time": "2024-05-28T13:12:06.671201",
     "exception": false,
     "start_time": "2024-05-28T13:11:08.323136",
     "status": "completed"
    },
    "tags": []
   },
   "outputs": [
    {
     "name": "stdout",
     "output_type": "stream",
     "text": [
      "Batch 9 saved to leap_train_batch_9.parquet\n"
     ]
    }
   ],
   "source": [
    "# Initialize a counter to track batches\n",
    "batch_counter = 8\n",
    "\n",
    "\n",
    "parquet_file_path = f'leap_train_batch_{batch_counter + 1}.parquet'\n",
    "batches[0].write_parquet(parquet_file_path)\n",
    "print(f'Batch {batch_counter + 1} saved to {parquet_file_path}')"
   ]
  },
  {
   "cell_type": "code",
   "execution_count": null,
   "id": "4d49ecd2",
   "metadata": {
    "papermill": {
     "duration": 0.004307,
     "end_time": "2024-05-28T13:12:06.680204",
     "exception": false,
     "start_time": "2024-05-28T13:12:06.675897",
     "status": "completed"
    },
    "tags": []
   },
   "outputs": [],
   "source": []
  }
 ],
 "metadata": {
  "kaggle": {
   "accelerator": "none",
   "dataSources": [
    {
     "databundleVersionId": 8015876,
     "sourceId": 56537,
     "sourceType": "competition"
    }
   ],
   "isGpuEnabled": false,
   "isInternetEnabled": true,
   "language": "python",
   "sourceType": "notebook"
  },
  "kernelspec": {
   "display_name": "Python 3",
   "language": "python",
   "name": "python3"
  },
  "language_info": {
   "codemirror_mode": {
    "name": "ipython",
    "version": 3
   },
   "file_extension": ".py",
   "mimetype": "text/x-python",
   "name": "python",
   "nbconvert_exporter": "python",
   "pygments_lexer": "ipython3",
   "version": "3.10.13"
  },
  "papermill": {
   "default_parameters": {},
   "duration": 2427.297322,
   "end_time": "2024-05-28T13:12:09.126092",
   "environment_variables": {},
   "exception": null,
   "input_path": "__notebook__.ipynb",
   "output_path": "__notebook__.ipynb",
   "parameters": {},
   "start_time": "2024-05-28T12:31:41.828770",
   "version": "2.5.0"
  }
 },
 "nbformat": 4,
 "nbformat_minor": 5
}
