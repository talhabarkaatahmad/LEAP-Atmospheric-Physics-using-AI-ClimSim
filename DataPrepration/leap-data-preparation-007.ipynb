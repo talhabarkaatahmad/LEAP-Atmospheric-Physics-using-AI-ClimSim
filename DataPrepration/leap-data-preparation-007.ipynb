{
 "cells": [
  {
   "cell_type": "code",
   "execution_count": 1,
   "id": "c93f3a43",
   "metadata": {
    "execution": {
     "iopub.execute_input": "2024-05-28T12:27:05.764864Z",
     "iopub.status.busy": "2024-05-28T12:27:05.764489Z",
     "iopub.status.idle": "2024-05-28T12:27:06.064999Z",
     "shell.execute_reply": "2024-05-28T12:27:06.063886Z"
    },
    "papermill": {
     "duration": 0.308532,
     "end_time": "2024-05-28T12:27:06.067619",
     "exception": false,
     "start_time": "2024-05-28T12:27:05.759087",
     "status": "completed"
    },
    "tags": []
   },
   "outputs": [],
   "source": [
    "import polars as pl\n",
    "import os\n",
    "\n",
    "total_rows = 10091520\n",
    "\n",
    "# Define the file path to your CSV file\n",
    "csv_file_path = \"/kaggle/input/leap-atmospheric-physics-ai-climsim/train.csv\"\n",
    "\n",
    "# Number of rows to read in each batch\n",
    "batch_size = 1000000"
   ]
  },
  {
   "cell_type": "code",
   "execution_count": 2,
   "id": "924d2add",
   "metadata": {
    "execution": {
     "iopub.execute_input": "2024-05-28T12:27:06.076473Z",
     "iopub.status.busy": "2024-05-28T12:27:06.076051Z",
     "iopub.status.idle": "2024-05-28T12:27:06.137363Z",
     "shell.execute_reply": "2024-05-28T12:27:06.136253Z"
    },
    "papermill": {
     "duration": 0.068418,
     "end_time": "2024-05-28T12:27:06.139825",
     "exception": false,
     "start_time": "2024-05-28T12:27:06.071407",
     "status": "completed"
    },
    "tags": []
   },
   "outputs": [
    {
     "data": {
      "text/plain": [
       "0"
      ]
     },
     "execution_count": 2,
     "metadata": {},
     "output_type": "execute_result"
    }
   ],
   "source": [
    "import gc\n",
    "gc.collect()"
   ]
  },
  {
   "cell_type": "code",
   "execution_count": 3,
   "id": "f8ac9f37",
   "metadata": {
    "execution": {
     "iopub.execute_input": "2024-05-28T12:27:06.148652Z",
     "iopub.status.busy": "2024-05-28T12:27:06.148258Z",
     "iopub.status.idle": "2024-05-28T12:27:06.230506Z",
     "shell.execute_reply": "2024-05-28T12:27:06.229218Z"
    },
    "papermill": {
     "duration": 0.089781,
     "end_time": "2024-05-28T12:27:06.233187",
     "exception": false,
     "start_time": "2024-05-28T12:27:06.143406",
     "status": "completed"
    },
    "tags": []
   },
   "outputs": [],
   "source": [
    "# Create a CSV reader with the specified batch size\n",
    "reader = pl.read_csv_batched(csv_file_path, batch_size=batch_size)"
   ]
  },
  {
   "cell_type": "code",
   "execution_count": 4,
   "id": "70aa0ddf",
   "metadata": {
    "execution": {
     "iopub.execute_input": "2024-05-28T12:27:06.242392Z",
     "iopub.status.busy": "2024-05-28T12:27:06.242022Z",
     "iopub.status.idle": "2024-05-28T12:31:35.625806Z",
     "shell.execute_reply": "2024-05-28T12:31:35.622786Z"
    },
    "papermill": {
     "duration": 269.394889,
     "end_time": "2024-05-28T12:31:35.631960",
     "exception": false,
     "start_time": "2024-05-28T12:27:06.237071",
     "status": "completed"
    },
    "tags": []
   },
   "outputs": [],
   "source": [
    "# 1,2\n",
    "batches = reader.next_batches(2)"
   ]
  },
  {
   "cell_type": "code",
   "execution_count": 5,
   "id": "1e9f9419",
   "metadata": {
    "execution": {
     "iopub.execute_input": "2024-05-28T12:31:35.645066Z",
     "iopub.status.busy": "2024-05-28T12:31:35.644603Z",
     "iopub.status.idle": "2024-05-28T12:35:43.699014Z",
     "shell.execute_reply": "2024-05-28T12:35:43.687848Z"
    },
    "papermill": {
     "duration": 248.066564,
     "end_time": "2024-05-28T12:35:43.705092",
     "exception": false,
     "start_time": "2024-05-28T12:31:35.638528",
     "status": "completed"
    },
    "tags": []
   },
   "outputs": [],
   "source": [
    "# 3\n",
    "batches = reader.next_batches(1)"
   ]
  },
  {
   "cell_type": "code",
   "execution_count": 6,
   "id": "a6debc83",
   "metadata": {
    "execution": {
     "iopub.execute_input": "2024-05-28T12:35:43.732913Z",
     "iopub.status.busy": "2024-05-28T12:35:43.731851Z",
     "iopub.status.idle": "2024-05-28T12:40:06.036237Z",
     "shell.execute_reply": "2024-05-28T12:40:06.033410Z"
    },
    "papermill": {
     "duration": 262.31761,
     "end_time": "2024-05-28T12:40:06.040283",
     "exception": false,
     "start_time": "2024-05-28T12:35:43.722673",
     "status": "completed"
    },
    "tags": []
   },
   "outputs": [],
   "source": [
    "# 4\n",
    "batches = reader.next_batches(1)"
   ]
  },
  {
   "cell_type": "code",
   "execution_count": 7,
   "id": "b311c053",
   "metadata": {
    "execution": {
     "iopub.execute_input": "2024-05-28T12:40:06.053589Z",
     "iopub.status.busy": "2024-05-28T12:40:06.051640Z",
     "iopub.status.idle": "2024-05-28T12:44:16.221346Z",
     "shell.execute_reply": "2024-05-28T12:44:16.218365Z"
    },
    "papermill": {
     "duration": 250.181367,
     "end_time": "2024-05-28T12:44:16.226982",
     "exception": false,
     "start_time": "2024-05-28T12:40:06.045615",
     "status": "completed"
    },
    "tags": []
   },
   "outputs": [],
   "source": [
    "# 5\n",
    "batches = reader.next_batches(1)"
   ]
  },
  {
   "cell_type": "code",
   "execution_count": 8,
   "id": "4be0988d",
   "metadata": {
    "execution": {
     "iopub.execute_input": "2024-05-28T12:44:16.246247Z",
     "iopub.status.busy": "2024-05-28T12:44:16.244111Z",
     "iopub.status.idle": "2024-05-28T12:48:21.252522Z",
     "shell.execute_reply": "2024-05-28T12:48:21.249257Z"
    },
    "papermill": {
     "duration": 245.025141,
     "end_time": "2024-05-28T12:48:21.259848",
     "exception": false,
     "start_time": "2024-05-28T12:44:16.234707",
     "status": "completed"
    },
    "tags": []
   },
   "outputs": [],
   "source": [
    "# 6\n",
    "batches = reader.next_batches(1)"
   ]
  },
  {
   "cell_type": "code",
   "execution_count": 9,
   "id": "7cb4415d",
   "metadata": {
    "execution": {
     "iopub.execute_input": "2024-05-28T12:48:21.279800Z",
     "iopub.status.busy": "2024-05-28T12:48:21.276993Z",
     "iopub.status.idle": "2024-05-28T12:52:56.492931Z",
     "shell.execute_reply": "2024-05-28T12:52:56.488873Z"
    },
    "papermill": {
     "duration": 275.232869,
     "end_time": "2024-05-28T12:52:56.500587",
     "exception": false,
     "start_time": "2024-05-28T12:48:21.267718",
     "status": "completed"
    },
    "tags": []
   },
   "outputs": [],
   "source": [
    "# 7\n",
    "batches = reader.next_batches(1)"
   ]
  },
  {
   "cell_type": "code",
   "execution_count": 10,
   "id": "15f0c72c",
   "metadata": {
    "execution": {
     "iopub.execute_input": "2024-05-28T12:52:56.521366Z",
     "iopub.status.busy": "2024-05-28T12:52:56.520577Z",
     "iopub.status.idle": "2024-05-28T12:52:56.599693Z",
     "shell.execute_reply": "2024-05-28T12:52:56.597897Z"
    },
    "papermill": {
     "duration": 0.099703,
     "end_time": "2024-05-28T12:52:56.610434",
     "exception": false,
     "start_time": "2024-05-28T12:52:56.510731",
     "status": "completed"
    },
    "tags": []
   },
   "outputs": [
    {
     "data": {
      "text/plain": [
       "[shape: (983_407, 925)\n",
       " ┌───────────┬───────────┬───────────┬───────────┬───┬───────────┬───────────┬───────────┬──────────┐\n",
       " │ sample_id ┆ state_t_0 ┆ state_t_1 ┆ state_t_2 ┆ … ┆ cam_out_S ┆ cam_out_S ┆ cam_out_S ┆ cam_out_ │\n",
       " │ ---       ┆ ---       ┆ ---       ┆ ---       ┆   ┆ OLS       ┆ OLL       ┆ OLSD      ┆ SOLLD    │\n",
       " │ str       ┆ f64       ┆ f64       ┆ f64       ┆   ┆ ---       ┆ ---       ┆ ---       ┆ ---      │\n",
       " │           ┆           ┆           ┆           ┆   ┆ f64       ┆ f64       ┆ f64       ┆ f64      │\n",
       " ╞═══════════╪═══════════╪═══════════╪═══════════╪═══╪═══════════╪═══════════╪═══════════╪══════════╡\n",
       " │ train_590 ┆ 228.70665 ┆ 239.74622 ┆ 247.45295 ┆ … ┆ 0.0       ┆ 0.0       ┆ 0.0       ┆ 0.0      │\n",
       " │ 2711      ┆ 8         ┆ 8         ┆ 1         ┆   ┆           ┆           ┆           ┆          │\n",
       " │ train_590 ┆ 223.70259 ┆ 241.65862 ┆ 237.69107 ┆ … ┆ 0.0       ┆ 0.0       ┆ 0.0       ┆ 0.0      │\n",
       " │ 2712      ┆ 4         ┆ 8         ┆ 7         ┆   ┆           ┆           ┆           ┆          │\n",
       " │ train_590 ┆ 220.97829 ┆ 238.97645 ┆ 234.45771 ┆ … ┆ 0.0       ┆ 0.0       ┆ 0.0       ┆ 0.0      │\n",
       " │ 2713      ┆ 7         ┆ 4         ┆ 6         ┆   ┆           ┆           ┆           ┆          │\n",
       " │ train_590 ┆ 234.01745 ┆ 244.05890 ┆ 245.71513 ┆ … ┆ 0.0       ┆ 0.0       ┆ 0.0       ┆ 0.0      │\n",
       " │ 2714      ┆ 3         ┆ 5         ┆ 8         ┆   ┆           ┆           ┆           ┆          │\n",
       " │ train_590 ┆ 238.82277 ┆ 248.93412 ┆ 240.26505 ┆ … ┆ 0.0       ┆ 0.0       ┆ 0.0       ┆ 0.0      │\n",
       " │ 2715      ┆ 4         ┆           ┆ 7         ┆   ┆           ┆           ┆           ┆          │\n",
       " │ …         ┆ …         ┆ …         ┆ …         ┆ … ┆ …         ┆ …         ┆ …         ┆ …        │\n",
       " │ train_688 ┆ 213.88353 ┆ 236.34341 ┆ 242.03167 ┆ … ┆ 0.0       ┆ 0.0       ┆ 0.0       ┆ 0.0      │\n",
       " │ 6113      ┆ 1         ┆ 6         ┆ 4         ┆   ┆           ┆           ┆           ┆          │\n",
       " │ train_688 ┆ 216.17940 ┆ 232.17330 ┆ 237.39561 ┆ … ┆ 0.0       ┆ 0.0       ┆ 0.0       ┆ 0.0      │\n",
       " │ 6114      ┆ 7         ┆ 5         ┆ 9         ┆   ┆           ┆           ┆           ┆          │\n",
       " │ train_688 ┆ 216.24060 ┆ 235.36047 ┆ 242.50516 ┆ … ┆ 0.0       ┆ 0.0       ┆ 0.0       ┆ 0.0      │\n",
       " │ 6115      ┆ 4         ┆ 5         ┆ 6         ┆   ┆           ┆           ┆           ┆          │\n",
       " │ train_688 ┆ 213.37037 ┆ 231.88797 ┆ 236.19551 ┆ … ┆ 0.0       ┆ 0.0       ┆ 0.0       ┆ 0.0      │\n",
       " │ 6116      ┆ 8         ┆ 7         ┆ 6         ┆   ┆           ┆           ┆           ┆          │\n",
       " │ train_688 ┆ 213.71400 ┆ 229.28371 ┆ 234.05534 ┆ … ┆ 0.0       ┆ 0.0       ┆ 0.0       ┆ 0.0      │\n",
       " │ 6117      ┆ 3         ┆ 5         ┆ 6         ┆   ┆           ┆           ┆           ┆          │\n",
       " └───────────┴───────────┴───────────┴───────────┴───┴───────────┴───────────┴───────────┴──────────┘]"
      ]
     },
     "execution_count": 10,
     "metadata": {},
     "output_type": "execute_result"
    }
   ],
   "source": [
    "batches"
   ]
  },
  {
   "cell_type": "code",
   "execution_count": 11,
   "id": "5998e783",
   "metadata": {
    "execution": {
     "iopub.execute_input": "2024-05-28T12:52:56.625458Z",
     "iopub.status.busy": "2024-05-28T12:52:56.623959Z",
     "iopub.status.idle": "2024-05-28T12:53:56.895026Z",
     "shell.execute_reply": "2024-05-28T12:53:56.893816Z"
    },
    "papermill": {
     "duration": 60.285384,
     "end_time": "2024-05-28T12:53:56.901663",
     "exception": false,
     "start_time": "2024-05-28T12:52:56.616279",
     "status": "completed"
    },
    "tags": []
   },
   "outputs": [
    {
     "name": "stdout",
     "output_type": "stream",
     "text": [
      "Batch 7 saved to leap_train_batch_7.parquet\n"
     ]
    }
   ],
   "source": [
    "# Initialize a counter to track batches\n",
    "batch_counter = 6\n",
    "\n",
    "\n",
    "parquet_file_path = f'leap_train_batch_{batch_counter + 1}.parquet'\n",
    "batches[0].write_parquet(parquet_file_path)\n",
    "print(f'Batch {batch_counter + 1} saved to {parquet_file_path}')"
   ]
  },
  {
   "cell_type": "code",
   "execution_count": null,
   "id": "0ba09e2b",
   "metadata": {
    "papermill": {
     "duration": 0.00422,
     "end_time": "2024-05-28T12:53:56.910534",
     "exception": false,
     "start_time": "2024-05-28T12:53:56.906314",
     "status": "completed"
    },
    "tags": []
   },
   "outputs": [],
   "source": []
  }
 ],
 "metadata": {
  "kaggle": {
   "accelerator": "none",
   "dataSources": [
    {
     "databundleVersionId": 8015876,
     "sourceId": 56537,
     "sourceType": "competition"
    }
   ],
   "isGpuEnabled": false,
   "isInternetEnabled": true,
   "language": "python",
   "sourceType": "notebook"
  },
  "kernelspec": {
   "display_name": "Python 3",
   "language": "python",
   "name": "python3"
  },
  "language_info": {
   "codemirror_mode": {
    "name": "ipython",
    "version": 3
   },
   "file_extension": ".py",
   "mimetype": "text/x-python",
   "name": "python",
   "nbconvert_exporter": "python",
   "pygments_lexer": "ipython3",
   "version": "3.10.13"
  },
  "papermill": {
   "default_parameters": {},
   "duration": 1616.638457,
   "end_time": "2024-05-28T12:53:59.359259",
   "environment_variables": {},
   "exception": null,
   "input_path": "__notebook__.ipynb",
   "output_path": "__notebook__.ipynb",
   "parameters": {},
   "start_time": "2024-05-28T12:27:02.720802",
   "version": "2.5.0"
  }
 },
 "nbformat": 4,
 "nbformat_minor": 5
}
