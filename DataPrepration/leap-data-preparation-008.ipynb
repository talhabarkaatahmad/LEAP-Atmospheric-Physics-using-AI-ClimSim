{
 "cells": [
  {
   "cell_type": "code",
   "execution_count": 1,
   "id": "dbcd3fea",
   "metadata": {
    "execution": {
     "iopub.execute_input": "2024-05-28T12:29:25.747044Z",
     "iopub.status.busy": "2024-05-28T12:29:25.746596Z",
     "iopub.status.idle": "2024-05-28T12:29:26.002338Z",
     "shell.execute_reply": "2024-05-28T12:29:26.001406Z"
    },
    "papermill": {
     "duration": 0.2639,
     "end_time": "2024-05-28T12:29:26.004795",
     "exception": false,
     "start_time": "2024-05-28T12:29:25.740895",
     "status": "completed"
    },
    "tags": []
   },
   "outputs": [],
   "source": [
    "import polars as pl\n",
    "import os\n",
    "\n",
    "total_rows = 10091520\n",
    "\n",
    "# Define the file path to your CSV file\n",
    "csv_file_path = \"/kaggle/input/leap-atmospheric-physics-ai-climsim/train.csv\"\n",
    "\n",
    "# Number of rows to read in each batch\n",
    "batch_size = 1000000"
   ]
  },
  {
   "cell_type": "code",
   "execution_count": 2,
   "id": "52cdc1f7",
   "metadata": {
    "execution": {
     "iopub.execute_input": "2024-05-28T12:29:26.014366Z",
     "iopub.status.busy": "2024-05-28T12:29:26.013092Z",
     "iopub.status.idle": "2024-05-28T12:29:26.069365Z",
     "shell.execute_reply": "2024-05-28T12:29:26.068273Z"
    },
    "papermill": {
     "duration": 0.06302,
     "end_time": "2024-05-28T12:29:26.071619",
     "exception": false,
     "start_time": "2024-05-28T12:29:26.008599",
     "status": "completed"
    },
    "tags": []
   },
   "outputs": [
    {
     "data": {
      "text/plain": [
       "0"
      ]
     },
     "execution_count": 2,
     "metadata": {},
     "output_type": "execute_result"
    }
   ],
   "source": [
    "import gc\n",
    "gc.collect()"
   ]
  },
  {
   "cell_type": "code",
   "execution_count": 3,
   "id": "6bf847f3",
   "metadata": {
    "execution": {
     "iopub.execute_input": "2024-05-28T12:29:26.080704Z",
     "iopub.status.busy": "2024-05-28T12:29:26.080347Z",
     "iopub.status.idle": "2024-05-28T12:29:26.154430Z",
     "shell.execute_reply": "2024-05-28T12:29:26.153393Z"
    },
    "papermill": {
     "duration": 0.081446,
     "end_time": "2024-05-28T12:29:26.156753",
     "exception": false,
     "start_time": "2024-05-28T12:29:26.075307",
     "status": "completed"
    },
    "tags": []
   },
   "outputs": [],
   "source": [
    "# Create a CSV reader with the specified batch size\n",
    "reader = pl.read_csv_batched(csv_file_path, batch_size=batch_size)"
   ]
  },
  {
   "cell_type": "code",
   "execution_count": 4,
   "id": "d9074ecb",
   "metadata": {
    "execution": {
     "iopub.execute_input": "2024-05-28T12:29:26.165728Z",
     "iopub.status.busy": "2024-05-28T12:29:26.165373Z",
     "iopub.status.idle": "2024-05-28T12:35:44.789255Z",
     "shell.execute_reply": "2024-05-28T12:35:44.787693Z"
    },
    "papermill": {
     "duration": 378.632795,
     "end_time": "2024-05-28T12:35:44.793372",
     "exception": false,
     "start_time": "2024-05-28T12:29:26.160577",
     "status": "completed"
    },
    "tags": []
   },
   "outputs": [],
   "source": [
    "# 1,2\n",
    "batches = reader.next_batches(2)"
   ]
  },
  {
   "cell_type": "code",
   "execution_count": 5,
   "id": "2479c0b9",
   "metadata": {
    "execution": {
     "iopub.execute_input": "2024-05-28T12:35:44.804194Z",
     "iopub.status.busy": "2024-05-28T12:35:44.803797Z",
     "iopub.status.idle": "2024-05-28T12:41:48.000515Z",
     "shell.execute_reply": "2024-05-28T12:41:47.998165Z"
    },
    "papermill": {
     "duration": 363.20475,
     "end_time": "2024-05-28T12:41:48.003411",
     "exception": false,
     "start_time": "2024-05-28T12:35:44.798661",
     "status": "completed"
    },
    "tags": []
   },
   "outputs": [],
   "source": [
    "# 3\n",
    "batches = reader.next_batches(1)"
   ]
  },
  {
   "cell_type": "code",
   "execution_count": 6,
   "id": "ed432b3a",
   "metadata": {
    "execution": {
     "iopub.execute_input": "2024-05-28T12:41:48.013676Z",
     "iopub.status.busy": "2024-05-28T12:41:48.013315Z",
     "iopub.status.idle": "2024-05-28T12:46:25.678760Z",
     "shell.execute_reply": "2024-05-28T12:46:25.675750Z"
    },
    "papermill": {
     "duration": 277.675361,
     "end_time": "2024-05-28T12:46:25.683683",
     "exception": false,
     "start_time": "2024-05-28T12:41:48.008322",
     "status": "completed"
    },
    "tags": []
   },
   "outputs": [],
   "source": [
    "# 4\n",
    "batches = reader.next_batches(1)"
   ]
  },
  {
   "cell_type": "code",
   "execution_count": 7,
   "id": "3d3afc11",
   "metadata": {
    "execution": {
     "iopub.execute_input": "2024-05-28T12:46:25.696953Z",
     "iopub.status.busy": "2024-05-28T12:46:25.696379Z",
     "iopub.status.idle": "2024-05-28T12:50:41.316803Z",
     "shell.execute_reply": "2024-05-28T12:50:41.314130Z"
    },
    "papermill": {
     "duration": 255.630328,
     "end_time": "2024-05-28T12:50:41.320454",
     "exception": false,
     "start_time": "2024-05-28T12:46:25.690126",
     "status": "completed"
    },
    "tags": []
   },
   "outputs": [],
   "source": [
    "# 5\n",
    "batches = reader.next_batches(1)"
   ]
  },
  {
   "cell_type": "code",
   "execution_count": 8,
   "id": "117037ae",
   "metadata": {
    "execution": {
     "iopub.execute_input": "2024-05-28T12:50:41.334160Z",
     "iopub.status.busy": "2024-05-28T12:50:41.332128Z",
     "iopub.status.idle": "2024-05-28T12:54:44.526529Z",
     "shell.execute_reply": "2024-05-28T12:54:44.525343Z"
    },
    "papermill": {
     "duration": 243.203863,
     "end_time": "2024-05-28T12:54:44.529368",
     "exception": false,
     "start_time": "2024-05-28T12:50:41.325505",
     "status": "completed"
    },
    "tags": []
   },
   "outputs": [],
   "source": [
    "# 6\n",
    "batches = reader.next_batches(1)"
   ]
  },
  {
   "cell_type": "code",
   "execution_count": 9,
   "id": "8199abb1",
   "metadata": {
    "execution": {
     "iopub.execute_input": "2024-05-28T12:54:44.539696Z",
     "iopub.status.busy": "2024-05-28T12:54:44.539366Z",
     "iopub.status.idle": "2024-05-28T12:58:46.399911Z",
     "shell.execute_reply": "2024-05-28T12:58:46.397312Z"
    },
    "papermill": {
     "duration": 241.869516,
     "end_time": "2024-05-28T12:58:46.404005",
     "exception": false,
     "start_time": "2024-05-28T12:54:44.534489",
     "status": "completed"
    },
    "tags": []
   },
   "outputs": [],
   "source": [
    "# 7\n",
    "batches = reader.next_batches(1)"
   ]
  },
  {
   "cell_type": "code",
   "execution_count": 10,
   "id": "0331e965",
   "metadata": {
    "execution": {
     "iopub.execute_input": "2024-05-28T12:58:46.415628Z",
     "iopub.status.busy": "2024-05-28T12:58:46.414862Z",
     "iopub.status.idle": "2024-05-28T13:03:17.474719Z",
     "shell.execute_reply": "2024-05-28T13:03:17.472280Z"
    },
    "papermill": {
     "duration": 271.069425,
     "end_time": "2024-05-28T13:03:17.478480",
     "exception": false,
     "start_time": "2024-05-28T12:58:46.409055",
     "status": "completed"
    },
    "tags": []
   },
   "outputs": [],
   "source": [
    "# 8\n",
    "batches = reader.next_batches(1)"
   ]
  },
  {
   "cell_type": "code",
   "execution_count": 11,
   "id": "daaa4b36",
   "metadata": {
    "execution": {
     "iopub.execute_input": "2024-05-28T13:03:17.491513Z",
     "iopub.status.busy": "2024-05-28T13:03:17.490149Z",
     "iopub.status.idle": "2024-05-28T13:03:17.564695Z",
     "shell.execute_reply": "2024-05-28T13:03:17.562396Z"
    },
    "papermill": {
     "duration": 0.085396,
     "end_time": "2024-05-28T13:03:17.569247",
     "exception": false,
     "start_time": "2024-05-28T13:03:17.483851",
     "status": "completed"
    },
    "tags": []
   },
   "outputs": [
    {
     "data": {
      "text/plain": [
       "[shape: (983_266, 925)\n",
       " ┌───────────┬───────────┬───────────┬───────────┬───┬───────────┬───────────┬───────────┬──────────┐\n",
       " │ sample_id ┆ state_t_0 ┆ state_t_1 ┆ state_t_2 ┆ … ┆ cam_out_S ┆ cam_out_S ┆ cam_out_S ┆ cam_out_ │\n",
       " │ ---       ┆ ---       ┆ ---       ┆ ---       ┆   ┆ OLS       ┆ OLL       ┆ OLSD      ┆ SOLLD    │\n",
       " │ str       ┆ f64       ┆ f64       ┆ f64       ┆   ┆ ---       ┆ ---       ┆ ---       ┆ ---      │\n",
       " │           ┆           ┆           ┆           ┆   ┆ f64       ┆ f64       ┆ f64       ┆ f64      │\n",
       " ╞═══════════╪═══════════╪═══════════╪═══════════╪═══╪═══════════╪═══════════╪═══════════╪══════════╡\n",
       " │ train_688 ┆ 215.99063 ┆ 232.44706 ┆ 242.26108 ┆ … ┆ 0.0       ┆ 0.0       ┆ 0.0       ┆ 0.0      │\n",
       " │ 6118      ┆ 9         ┆ 2         ┆ 2         ┆   ┆           ┆           ┆           ┆          │\n",
       " │ train_688 ┆ 213.41644 ┆ 229.43892 ┆ 236.41865 ┆ … ┆ 0.0       ┆ 0.0       ┆ 0.0       ┆ 0.0      │\n",
       " │ 6119      ┆ 2         ┆ 8         ┆ 2         ┆   ┆           ┆           ┆           ┆          │\n",
       " │ train_688 ┆ 213.08957 ┆ 231.55525 ┆ 236.09251 ┆ … ┆ 0.0       ┆ 0.0       ┆ 0.0       ┆ 0.0      │\n",
       " │ 6120      ┆ 3         ┆ 2         ┆ 5         ┆   ┆           ┆           ┆           ┆          │\n",
       " │ train_688 ┆ 211.78754 ┆ 233.04193 ┆ 237.25696 ┆ … ┆ 0.0       ┆ 0.0       ┆ 0.0       ┆ 0.0      │\n",
       " │ 6121      ┆ 8         ┆ 5         ┆ 1         ┆   ┆           ┆           ┆           ┆          │\n",
       " │ train_688 ┆ 212.52926 ┆ 228.87272 ┆ 234.96998 ┆ … ┆ 0.0       ┆ 0.0       ┆ 0.0       ┆ 0.0      │\n",
       " │ 6122      ┆ 7         ┆ 4         ┆ 7         ┆   ┆           ┆           ┆           ┆          │\n",
       " │ …         ┆ …         ┆ …         ┆ …         ┆ … ┆ …         ┆ …         ┆ …         ┆ …        │\n",
       " │ train_786 ┆ 197.13769 ┆ 204.59342 ┆ 208.46117 ┆ … ┆ 211.51196 ┆ 245.61261 ┆ 66.614531 ┆ 22.00529 │\n",
       " │ 9379      ┆ 1         ┆           ┆ 8         ┆   ┆ 2         ┆ 5         ┆           ┆          │\n",
       " │ train_786 ┆ 196.35225 ┆ 212.96260 ┆ 212.21202 ┆ … ┆ 20.006179 ┆ 29.986476 ┆ 50.539801 ┆ 26.99689 │\n",
       " │ 9380      ┆ 4         ┆ 4         ┆ 8         ┆   ┆           ┆           ┆           ┆ 5        │\n",
       " │ train_786 ┆ 195.50274 ┆ 217.22051 ┆ 218.63490 ┆ … ┆ 13.043537 ┆ 20.83197  ┆ 40.041813 ┆ 21.78395 │\n",
       " │ 9381      ┆ 6         ┆ 9         ┆ 6         ┆   ┆           ┆           ┆           ┆ 1        │\n",
       " │ train_786 ┆ 194.77211 ┆ 206.01021 ┆ 209.19290 ┆ … ┆ 102.61296 ┆ 175.6033  ┆ 77.151131 ┆ 27.73806 │\n",
       " │ 9382      ┆ 4         ┆ 6         ┆ 1         ┆   ┆           ┆           ┆           ┆ 4        │\n",
       " │ train_786 ┆ 199.47727 ┆ 203.61166 ┆ 210.95098 ┆ … ┆ 124.52620 ┆ 152.04084 ┆ 40.052309 ┆ 9.134992 │\n",
       " │ 9383      ┆ 6         ┆ 8         ┆ 6         ┆   ┆ 1         ┆ 1         ┆           ┆          │\n",
       " └───────────┴───────────┴───────────┴───────────┴───┴───────────┴───────────┴───────────┴──────────┘]"
      ]
     },
     "execution_count": 11,
     "metadata": {},
     "output_type": "execute_result"
    }
   ],
   "source": [
    "batches"
   ]
  },
  {
   "cell_type": "code",
   "execution_count": 12,
   "id": "1078dceb",
   "metadata": {
    "execution": {
     "iopub.execute_input": "2024-05-28T13:03:17.580704Z",
     "iopub.status.busy": "2024-05-28T13:03:17.579779Z",
     "iopub.status.idle": "2024-05-28T13:04:11.345685Z",
     "shell.execute_reply": "2024-05-28T13:04:11.344616Z"
    },
    "papermill": {
     "duration": 53.778452,
     "end_time": "2024-05-28T13:04:11.351875",
     "exception": false,
     "start_time": "2024-05-28T13:03:17.573423",
     "status": "completed"
    },
    "tags": []
   },
   "outputs": [
    {
     "name": "stdout",
     "output_type": "stream",
     "text": [
      "Batch 8 saved to leap_train_batch_8.parquet\n"
     ]
    }
   ],
   "source": [
    "# Initialize a counter to track batches\n",
    "batch_counter = 7\n",
    "\n",
    "\n",
    "parquet_file_path = f'leap_train_batch_{batch_counter + 1}.parquet'\n",
    "batches[0].write_parquet(parquet_file_path)\n",
    "print(f'Batch {batch_counter + 1} saved to {parquet_file_path}')"
   ]
  },
  {
   "cell_type": "code",
   "execution_count": null,
   "id": "b8c8f51d",
   "metadata": {
    "papermill": {
     "duration": 0.003735,
     "end_time": "2024-05-28T13:04:11.359571",
     "exception": false,
     "start_time": "2024-05-28T13:04:11.355836",
     "status": "completed"
    },
    "tags": []
   },
   "outputs": [],
   "source": []
  }
 ],
 "metadata": {
  "kaggle": {
   "accelerator": "none",
   "dataSources": [
    {
     "databundleVersionId": 8015876,
     "sourceId": 56537,
     "sourceType": "competition"
    }
   ],
   "isGpuEnabled": false,
   "isInternetEnabled": true,
   "language": "python",
   "sourceType": "notebook"
  },
  "kernelspec": {
   "display_name": "Python 3",
   "language": "python",
   "name": "python3"
  },
  "language_info": {
   "codemirror_mode": {
    "name": "ipython",
    "version": 3
   },
   "file_extension": ".py",
   "mimetype": "text/x-python",
   "name": "python",
   "nbconvert_exporter": "python",
   "pygments_lexer": "ipython3",
   "version": "3.10.13"
  },
  "papermill": {
   "default_parameters": {},
   "duration": 2090.814426,
   "end_time": "2024-05-28T13:04:13.899307",
   "environment_variables": {},
   "exception": null,
   "input_path": "__notebook__.ipynb",
   "output_path": "__notebook__.ipynb",
   "parameters": {},
   "start_time": "2024-05-28T12:29:23.084881",
   "version": "2.5.0"
  }
 },
 "nbformat": 4,
 "nbformat_minor": 5
}
