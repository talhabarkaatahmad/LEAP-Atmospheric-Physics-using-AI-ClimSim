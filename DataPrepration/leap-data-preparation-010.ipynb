{
 "cells": [
  {
   "cell_type": "code",
   "execution_count": 1,
   "id": "d7a937df",
   "metadata": {
    "execution": {
     "iopub.execute_input": "2024-05-28T12:41:08.661218Z",
     "iopub.status.busy": "2024-05-28T12:41:08.660357Z",
     "iopub.status.idle": "2024-05-28T12:41:08.987049Z",
     "shell.execute_reply": "2024-05-28T12:41:08.985750Z"
    },
    "papermill": {
     "duration": 0.337786,
     "end_time": "2024-05-28T12:41:08.990010",
     "exception": false,
     "start_time": "2024-05-28T12:41:08.652224",
     "status": "completed"
    },
    "tags": []
   },
   "outputs": [],
   "source": [
    "import polars as pl\n",
    "import os\n",
    "\n",
    "total_rows = 10091520\n",
    "\n",
    "# Define the file path to your CSV file\n",
    "csv_file_path = \"/kaggle/input/leap-atmospheric-physics-ai-climsim/train.csv\"\n",
    "\n",
    "# Number of rows to read in each batch\n",
    "batch_size = 1000000"
   ]
  },
  {
   "cell_type": "code",
   "execution_count": 2,
   "id": "9db34ec9",
   "metadata": {
    "execution": {
     "iopub.execute_input": "2024-05-28T12:41:09.002791Z",
     "iopub.status.busy": "2024-05-28T12:41:09.002060Z",
     "iopub.status.idle": "2024-05-28T12:41:09.067676Z",
     "shell.execute_reply": "2024-05-28T12:41:09.066693Z"
    },
    "papermill": {
     "duration": 0.074836,
     "end_time": "2024-05-28T12:41:09.070280",
     "exception": false,
     "start_time": "2024-05-28T12:41:08.995444",
     "status": "completed"
    },
    "tags": []
   },
   "outputs": [
    {
     "data": {
      "text/plain": [
       "0"
      ]
     },
     "execution_count": 2,
     "metadata": {},
     "output_type": "execute_result"
    }
   ],
   "source": [
    "import gc\n",
    "gc.collect()"
   ]
  },
  {
   "cell_type": "code",
   "execution_count": 3,
   "id": "8154c42e",
   "metadata": {
    "execution": {
     "iopub.execute_input": "2024-05-28T12:41:09.083143Z",
     "iopub.status.busy": "2024-05-28T12:41:09.082425Z",
     "iopub.status.idle": "2024-05-28T13:55:59.192524Z",
     "shell.execute_reply": "2024-05-28T13:55:59.184519Z"
    },
    "papermill": {
     "duration": 4490.122484,
     "end_time": "2024-05-28T13:55:59.198096",
     "exception": false,
     "start_time": "2024-05-28T12:41:09.075612",
     "status": "completed"
    },
    "tags": []
   },
   "outputs": [],
   "source": [
    "# Create a CSV reader with 9m rows skipped\n",
    "reader = pl.read_csv(csv_file_path, skip_rows=9000000)"
   ]
  },
  {
   "cell_type": "code",
   "execution_count": 4,
   "id": "df050373",
   "metadata": {
    "execution": {
     "iopub.execute_input": "2024-05-28T13:55:59.218136Z",
     "iopub.status.busy": "2024-05-28T13:55:59.217354Z",
     "iopub.status.idle": "2024-05-28T13:55:59.229343Z",
     "shell.execute_reply": "2024-05-28T13:55:59.227837Z"
    },
    "papermill": {
     "duration": 0.026459,
     "end_time": "2024-05-28T13:55:59.232549",
     "exception": false,
     "start_time": "2024-05-28T13:55:59.206090",
     "status": "completed"
    },
    "tags": []
   },
   "outputs": [],
   "source": [
    "# # 1,2\n",
    "# batches = reader.next_batches(2)"
   ]
  },
  {
   "cell_type": "code",
   "execution_count": 5,
   "id": "a7ab8766",
   "metadata": {
    "execution": {
     "iopub.execute_input": "2024-05-28T13:55:59.246943Z",
     "iopub.status.busy": "2024-05-28T13:55:59.245858Z",
     "iopub.status.idle": "2024-05-28T13:55:59.252220Z",
     "shell.execute_reply": "2024-05-28T13:55:59.250522Z"
    },
    "papermill": {
     "duration": 0.016679,
     "end_time": "2024-05-28T13:55:59.255237",
     "exception": false,
     "start_time": "2024-05-28T13:55:59.238558",
     "status": "completed"
    },
    "tags": []
   },
   "outputs": [],
   "source": [
    "# # 3\n",
    "# batches = reader.next_batches(1)"
   ]
  },
  {
   "cell_type": "code",
   "execution_count": 6,
   "id": "01fd222c",
   "metadata": {
    "execution": {
     "iopub.execute_input": "2024-05-28T13:55:59.268568Z",
     "iopub.status.busy": "2024-05-28T13:55:59.268135Z",
     "iopub.status.idle": "2024-05-28T13:55:59.273979Z",
     "shell.execute_reply": "2024-05-28T13:55:59.272522Z"
    },
    "papermill": {
     "duration": 0.016006,
     "end_time": "2024-05-28T13:55:59.276791",
     "exception": false,
     "start_time": "2024-05-28T13:55:59.260785",
     "status": "completed"
    },
    "tags": []
   },
   "outputs": [],
   "source": [
    "# # 4\n",
    "# batches = reader.next_batches(1)"
   ]
  },
  {
   "cell_type": "code",
   "execution_count": 7,
   "id": "db998528",
   "metadata": {
    "execution": {
     "iopub.execute_input": "2024-05-28T13:55:59.289667Z",
     "iopub.status.busy": "2024-05-28T13:55:59.289273Z",
     "iopub.status.idle": "2024-05-28T13:55:59.294971Z",
     "shell.execute_reply": "2024-05-28T13:55:59.293516Z"
    },
    "papermill": {
     "duration": 0.01565,
     "end_time": "2024-05-28T13:55:59.297912",
     "exception": false,
     "start_time": "2024-05-28T13:55:59.282262",
     "status": "completed"
    },
    "tags": []
   },
   "outputs": [],
   "source": [
    "# # 5\n",
    "# batches = reader.next_batches(1)"
   ]
  },
  {
   "cell_type": "code",
   "execution_count": 8,
   "id": "e401d810",
   "metadata": {
    "execution": {
     "iopub.execute_input": "2024-05-28T13:55:59.310496Z",
     "iopub.status.busy": "2024-05-28T13:55:59.310101Z",
     "iopub.status.idle": "2024-05-28T13:55:59.315309Z",
     "shell.execute_reply": "2024-05-28T13:55:59.314041Z"
    },
    "papermill": {
     "duration": 0.015198,
     "end_time": "2024-05-28T13:55:59.318444",
     "exception": false,
     "start_time": "2024-05-28T13:55:59.303246",
     "status": "completed"
    },
    "tags": []
   },
   "outputs": [],
   "source": [
    "# # 6\n",
    "# batches = reader.next_batches(1)"
   ]
  },
  {
   "cell_type": "code",
   "execution_count": 9,
   "id": "afadaf5d",
   "metadata": {
    "execution": {
     "iopub.execute_input": "2024-05-28T13:55:59.332185Z",
     "iopub.status.busy": "2024-05-28T13:55:59.331239Z",
     "iopub.status.idle": "2024-05-28T13:55:59.337246Z",
     "shell.execute_reply": "2024-05-28T13:55:59.335820Z"
    },
    "papermill": {
     "duration": 0.015941,
     "end_time": "2024-05-28T13:55:59.339943",
     "exception": false,
     "start_time": "2024-05-28T13:55:59.324002",
     "status": "completed"
    },
    "tags": []
   },
   "outputs": [],
   "source": [
    "# # 7\n",
    "# batches = reader.next_batches(1)"
   ]
  },
  {
   "cell_type": "code",
   "execution_count": 10,
   "id": "8229885a",
   "metadata": {
    "execution": {
     "iopub.execute_input": "2024-05-28T13:55:59.354027Z",
     "iopub.status.busy": "2024-05-28T13:55:59.352705Z",
     "iopub.status.idle": "2024-05-28T13:55:59.358497Z",
     "shell.execute_reply": "2024-05-28T13:55:59.357326Z"
    },
    "papermill": {
     "duration": 0.01556,
     "end_time": "2024-05-28T13:55:59.361315",
     "exception": false,
     "start_time": "2024-05-28T13:55:59.345755",
     "status": "completed"
    },
    "tags": []
   },
   "outputs": [],
   "source": [
    "# # 8\n",
    "# batches = reader.next_batches(1)"
   ]
  },
  {
   "cell_type": "code",
   "execution_count": 11,
   "id": "7772fb48",
   "metadata": {
    "execution": {
     "iopub.execute_input": "2024-05-28T13:55:59.374696Z",
     "iopub.status.busy": "2024-05-28T13:55:59.374277Z",
     "iopub.status.idle": "2024-05-28T13:55:59.379893Z",
     "shell.execute_reply": "2024-05-28T13:55:59.378489Z"
    },
    "papermill": {
     "duration": 0.01548,
     "end_time": "2024-05-28T13:55:59.382526",
     "exception": false,
     "start_time": "2024-05-28T13:55:59.367046",
     "status": "completed"
    },
    "tags": []
   },
   "outputs": [],
   "source": [
    "# # 9\n",
    "# batches = reader.next_batches(1)"
   ]
  },
  {
   "cell_type": "code",
   "execution_count": 12,
   "id": "a470c4e9",
   "metadata": {
    "execution": {
     "iopub.execute_input": "2024-05-28T13:55:59.396031Z",
     "iopub.status.busy": "2024-05-28T13:55:59.395591Z",
     "iopub.status.idle": "2024-05-28T13:55:59.489034Z",
     "shell.execute_reply": "2024-05-28T13:55:59.487606Z"
    },
    "papermill": {
     "duration": 0.104013,
     "end_time": "2024-05-28T13:55:59.492265",
     "exception": false,
     "start_time": "2024-05-28T13:55:59.388252",
     "status": "completed"
    },
    "tags": []
   },
   "outputs": [
    {
     "data": {
      "text/html": [
       "<div><style>\n",
       ".dataframe > thead > tr,\n",
       ".dataframe > tbody > tr {\n",
       "  text-align: right;\n",
       "  white-space: pre-wrap;\n",
       "}\n",
       "</style>\n",
       "<small>shape: (1_091_520, 925)</small><table border=\"1\" class=\"dataframe\"><thead><tr><th>train_8999999</th><th>220.84618620470582</th><th>232.9531968587996</th><th>239.2896749874301</th><th>249.0635268132575</th><th>258.00717350960747</th><th>262.78003922929827</th><th>259.80796234858167</th><th>250.72191596045997</th><th>239.04208174723212</th><th>230.23377166822954</th><th>222.96559909144972</th><th>217.7826545534912</th><th>214.22798538601793</th><th>212.2907393467241</th><th>210.65739314917516</th><th>208.88456628801478</th><th>205.32573392994607</th><th>202.65441572065885</th><th>202.25954402288292</th><th>203.8535186784115</th><th>207.14672067714744</th><th>209.1478084367723</th><th>211.38279237789826</th><th>213.94162025863974</th><th>216.87370551085877</th><th>220.03468430983696</th><th>223.44500416</th><th>227.12077566974037</th><th>230.76127281346342</th><th>234.3667206555517</th><th>237.96732087138548</th><th>241.65437304018297</th><th>245.39263084240864</th><th>249.0652652316389</th><th>252.45280852104744</th><th>255.55169689718394</th><th>&hellip;</th><th>3.537486499953964e-08</th><th>-1.4782366224800707e-08</th><th>1.0511839018817471e-07</th><th>-3.3792899416985415e-07</th><th>-7.776724690563193e-08</th><th>-7.278620954236092e-07</th><th>8.866767775872012e-07</th><th>9.78747985742277e-07</th><th>-6.861305587748297e-07</th><th>-2.5018642382153753e-08</th><th>1.5820765539612907e-07</th><th>-2.3633617331930701e-07</th><th>-5.015879156466951e-09</th><th>3.234696594908715e-07</th><th>2.5914090677943888e-08</th><th>6.792789422116475e-08</th><th>7.430153491079043e-07</th><th>1.7149450431401074e-06</th><th>5.296438124567186e-07</th><th>-3.693468938507453e-08</th><th>3.5704806929807526e-07</th><th>5.983536372896244e-08</th><th>8.052594142878474e-07</th><th>-4.6208170198365946e-07</th><th>-3.800598247953128e-06</th><th>-1.1302213015458677e-05</th><th>-6.381110299281308e-06</th><th>4.305469568906169e-06</th><th>1.1057296788191302e-05</th><th>0.0_duplicated_134</th><th>376.45762107399077</th><th>0.0_duplicated_135</th><th>1.566819286626844e-09</th><th>0.058402820138453326</th><th>0.05849509420396501</th><th>5.339987435970747</th><th>3.300893552005329</th></tr><tr><td>str</td><td>f64</td><td>f64</td><td>f64</td><td>f64</td><td>f64</td><td>f64</td><td>f64</td><td>f64</td><td>f64</td><td>f64</td><td>f64</td><td>f64</td><td>f64</td><td>f64</td><td>f64</td><td>f64</td><td>f64</td><td>f64</td><td>f64</td><td>f64</td><td>f64</td><td>f64</td><td>f64</td><td>f64</td><td>f64</td><td>f64</td><td>f64</td><td>f64</td><td>f64</td><td>f64</td><td>f64</td><td>f64</td><td>f64</td><td>f64</td><td>f64</td><td>f64</td><td>&hellip;</td><td>f64</td><td>f64</td><td>f64</td><td>f64</td><td>f64</td><td>f64</td><td>f64</td><td>f64</td><td>f64</td><td>f64</td><td>f64</td><td>f64</td><td>f64</td><td>f64</td><td>f64</td><td>f64</td><td>f64</td><td>f64</td><td>f64</td><td>f64</td><td>f64</td><td>f64</td><td>f64</td><td>f64</td><td>f64</td><td>f64</td><td>f64</td><td>f64</td><td>f64</td><td>f64</td><td>f64</td><td>f64</td><td>f64</td><td>f64</td><td>f64</td><td>f64</td><td>f64</td></tr></thead><tbody><tr><td>&quot;train_9000000&quot;</td><td>220.335448</td><td>241.12601</td><td>247.123992</td><td>254.698078</td><td>255.908976</td><td>254.075383</td><td>248.748783</td><td>240.927043</td><td>233.029205</td><td>227.412227</td><td>223.572779</td><td>220.394336</td><td>216.954386</td><td>212.870392</td><td>208.466185</td><td>204.206464</td><td>200.057475</td><td>195.479548</td><td>194.05708</td><td>194.968104</td><td>200.456017</td><td>205.640402</td><td>211.271925</td><td>216.6719</td><td>221.912665</td><td>226.815454</td><td>231.364858</td><td>235.503323</td><td>239.341497</td><td>242.910046</td><td>246.140094</td><td>249.403387</td><td>252.545156</td><td>255.499745</td><td>258.436213</td><td>261.168282</td><td>&hellip;</td><td>-2.9369e-7</td><td>-4.3249e-7</td><td>6.0182e-7</td><td>-4.3665e-8</td><td>-6.9871e-7</td><td>-7.5123e-7</td><td>-2.4426e-7</td><td>2.7404e-7</td><td>3.0185e-7</td><td>2.0797e-7</td><td>7.0669e-8</td><td>1.8754e-7</td><td>2.7856e-7</td><td>-6.7541e-7</td><td>5.6812e-7</td><td>0.000006</td><td>0.000003</td><td>-0.000004</td><td>-0.000004</td><td>3.7605e-7</td><td>0.000001</td><td>1.8231e-7</td><td>7.0543e-7</td><td>0.000002</td><td>-0.000002</td><td>-0.000011</td><td>-0.000006</td><td>-0.000008</td><td>0.000015</td><td>0.0</td><td>387.92681</td><td>0.0</td><td>2.6151e-9</td><td>0.0</td><td>0.0</td><td>0.0</td><td>0.0</td></tr><tr><td>&quot;train_9000001&quot;</td><td>226.658021</td><td>234.510084</td><td>243.247596</td><td>252.53527</td><td>254.935951</td><td>251.845118</td><td>247.500609</td><td>240.504805</td><td>232.649174</td><td>226.618575</td><td>222.503149</td><td>219.30611</td><td>216.24543</td><td>212.802951</td><td>209.086935</td><td>205.444389</td><td>202.073424</td><td>198.566018</td><td>196.474673</td><td>197.014649</td><td>200.888984</td><td>204.309446</td><td>208.722847</td><td>213.117865</td><td>217.888079</td><td>223.018596</td><td>228.186492</td><td>233.151898</td><td>237.733557</td><td>241.911049</td><td>245.798048</td><td>249.426949</td><td>252.797225</td><td>255.88619</td><td>258.830329</td><td>261.567565</td><td>&hellip;</td><td>1.2788e-7</td><td>8.5116e-9</td><td>1.5558e-7</td><td>7.9241e-8</td><td>7.0693e-8</td><td>1.4430e-7</td><td>-1.3036e-8</td><td>5.8881e-8</td><td>2.3681e-8</td><td>9.2885e-8</td><td>5.3946e-7</td><td>5.7482e-7</td><td>0.000001</td><td>0.000003</td><td>0.000005</td><td>0.000006</td><td>-2.3073e-7</td><td>-0.000005</td><td>-0.000007</td><td>-0.000003</td><td>2.7376e-8</td><td>-2.4826e-8</td><td>6.2536e-7</td><td>0.000002</td><td>0.000001</td><td>-0.000003</td><td>-0.000004</td><td>-0.000005</td><td>-3.8344e-7</td><td>2.06674</td><td>394.548169</td><td>0.0</td><td>3.5097e-7</td><td>6.3028e-109</td><td>1.0426e-115</td><td>1.410791</td><td>0.787869</td></tr><tr><td>&quot;train_9000002&quot;</td><td>221.930221</td><td>234.732512</td><td>241.927382</td><td>254.006302</td><td>257.955588</td><td>257.775459</td><td>250.871545</td><td>242.399751</td><td>234.719555</td><td>230.484272</td><td>227.556257</td><td>223.839606</td><td>219.026288</td><td>213.653778</td><td>207.273093</td><td>201.396507</td><td>194.68645</td><td>188.354747</td><td>186.941504</td><td>188.463335</td><td>195.232443</td><td>201.104809</td><td>208.671713</td><td>215.98034</td><td>222.919122</td><td>229.307045</td><td>234.817843</td><td>239.588063</td><td>244.024259</td><td>248.218715</td><td>251.844141</td><td>255.299792</td><td>258.406492</td><td>261.3309</td><td>264.222074</td><td>266.706109</td><td>&hellip;</td><td>7.1848e-7</td><td>-5.2488e-7</td><td>-0.000001</td><td>-0.000003</td><td>-0.000002</td><td>-0.000003</td><td>-0.000005</td><td>-0.000002</td><td>0.000002</td><td>0.000007</td><td>0.000009</td><td>0.000005</td><td>0.000002</td><td>-6.7378e-8</td><td>-2.6549e-7</td><td>-0.000001</td><td>-0.000004</td><td>-0.000002</td><td>-0.000004</td><td>-0.000006</td><td>-8.9146e-7</td><td>0.000002</td><td>0.000003</td><td>-0.000001</td><td>-0.000009</td><td>-0.000014</td><td>0.000025</td><td>0.000015</td><td>-0.000002</td><td>0.0</td><td>423.169698</td><td>0.0</td><td>2.8748e-7</td><td>0.0</td><td>0.0</td><td>0.0</td><td>0.0</td></tr><tr><td>&quot;train_9000003&quot;</td><td>225.234667</td><td>234.225378</td><td>239.130493</td><td>249.130772</td><td>255.764547</td><td>255.728177</td><td>249.299796</td><td>241.777471</td><td>234.959802</td><td>230.570777</td><td>226.797602</td><td>222.543045</td><td>218.016271</td><td>213.576485</td><td>208.358721</td><td>202.810683</td><td>196.247575</td><td>191.058829</td><td>190.4051</td><td>191.847313</td><td>197.875925</td><td>201.935213</td><td>207.58563</td><td>213.268024</td><td>219.152752</td><td>225.202754</td><td>231.158564</td><td>236.622277</td><td>241.622225</td><td>246.020861</td><td>250.117924</td><td>253.846075</td><td>257.110046</td><td>260.152451</td><td>263.061852</td><td>265.663826</td><td>&hellip;</td><td>0.000021</td><td>0.000005</td><td>7.7011e-7</td><td>0.000003</td><td>0.000001</td><td>0.000003</td><td>0.000004</td><td>0.000005</td><td>0.000002</td><td>0.000003</td><td>0.000001</td><td>-6.4309e-7</td><td>-0.000001</td><td>-0.000016</td><td>-0.00004</td><td>-0.000043</td><td>-0.000028</td><td>-0.000013</td><td>-0.000001</td><td>0.000014</td><td>0.000023</td><td>0.00004</td><td>0.000051</td><td>0.000055</td><td>0.000063</td><td>0.000055</td><td>0.000041</td><td>-0.000037</td><td>-0.000062</td><td>8.975597</td><td>422.637307</td><td>0.0</td><td>6.6683e-8</td><td>0.06987</td><td>0.000419</td><td>6.304667</td><td>3.194637</td></tr><tr><td>&quot;train_9000004&quot;</td><td>222.270168</td><td>232.543857</td><td>240.553778</td><td>246.505728</td><td>254.593591</td><td>251.87329</td><td>246.540331</td><td>239.906517</td><td>232.537145</td><td>226.498159</td><td>222.083405</td><td>218.749253</td><td>216.010161</td><td>213.230939</td><td>210.214405</td><td>207.329593</td><td>204.810261</td><td>202.761683</td><td>199.688261</td><td>200.081625</td><td>201.271171</td><td>203.530249</td><td>206.286901</td><td>209.844595</td><td>214.164716</td><td>219.308562</td><td>224.6648</td><td>229.640536</td><td>234.119593</td><td>238.327398</td><td>242.352582</td><td>246.18232</td><td>249.747239</td><td>252.98468</td><td>255.897084</td><td>258.657107</td><td>&hellip;</td><td>-9.6431e-7</td><td>-7.9782e-7</td><td>7.7629e-7</td><td>0.000002</td><td>0.000001</td><td>9.3656e-7</td><td>0.000001</td><td>9.8961e-7</td><td>2.0266e-7</td><td>4.1707e-7</td><td>4.3933e-7</td><td>-1.7817e-7</td><td>6.0967e-7</td><td>-4.2905e-7</td><td>-6.9272e-8</td><td>2.9561e-7</td><td>2.5315e-7</td><td>7.8365e-8</td><td>-3.6105e-7</td><td>-5.0715e-7</td><td>2.5236e-7</td><td>4.5292e-7</td><td>2.3919e-7</td><td>-0.000002</td><td>-0.000007</td><td>-0.000003</td><td>0.000028</td><td>0.000036</td><td>-0.000048</td><td>15.367383</td><td>387.19428</td><td>0.0</td><td>2.5525e-8</td><td>1.9299e-13</td><td>2.4130e-16</td><td>10.39755</td><td>5.950729</td></tr><tr><td>&hellip;</td><td>&hellip;</td><td>&hellip;</td><td>&hellip;</td><td>&hellip;</td><td>&hellip;</td><td>&hellip;</td><td>&hellip;</td><td>&hellip;</td><td>&hellip;</td><td>&hellip;</td><td>&hellip;</td><td>&hellip;</td><td>&hellip;</td><td>&hellip;</td><td>&hellip;</td><td>&hellip;</td><td>&hellip;</td><td>&hellip;</td><td>&hellip;</td><td>&hellip;</td><td>&hellip;</td><td>&hellip;</td><td>&hellip;</td><td>&hellip;</td><td>&hellip;</td><td>&hellip;</td><td>&hellip;</td><td>&hellip;</td><td>&hellip;</td><td>&hellip;</td><td>&hellip;</td><td>&hellip;</td><td>&hellip;</td><td>&hellip;</td><td>&hellip;</td><td>&hellip;</td><td>&hellip;</td><td>&hellip;</td><td>&hellip;</td><td>&hellip;</td><td>&hellip;</td><td>&hellip;</td><td>&hellip;</td><td>&hellip;</td><td>&hellip;</td><td>&hellip;</td><td>&hellip;</td><td>&hellip;</td><td>&hellip;</td><td>&hellip;</td><td>&hellip;</td><td>&hellip;</td><td>&hellip;</td><td>&hellip;</td><td>&hellip;</td><td>&hellip;</td><td>&hellip;</td><td>&hellip;</td><td>&hellip;</td><td>&hellip;</td><td>&hellip;</td><td>&hellip;</td><td>&hellip;</td><td>&hellip;</td><td>&hellip;</td><td>&hellip;</td><td>&hellip;</td><td>&hellip;</td><td>&hellip;</td><td>&hellip;</td><td>&hellip;</td><td>&hellip;</td><td>&hellip;</td><td>&hellip;</td></tr><tr><td>&quot;train_10091515…</td><td>217.423003</td><td>242.428143</td><td>250.158988</td><td>245.937461</td><td>242.535453</td><td>235.622946</td><td>228.000958</td><td>222.835895</td><td>217.943718</td><td>215.893219</td><td>215.915194</td><td>216.385106</td><td>216.844714</td><td>217.373448</td><td>217.923039</td><td>218.099617</td><td>217.47006</td><td>217.718237</td><td>216.336536</td><td>215.719312</td><td>215.316387</td><td>214.982788</td><td>215.260035</td><td>216.477763</td><td>218.065985</td><td>219.829853</td><td>221.614019</td><td>223.485915</td><td>225.384392</td><td>227.297815</td><td>229.140914</td><td>230.970276</td><td>232.796826</td><td>234.749488</td><td>236.75646</td><td>238.813322</td><td>&hellip;</td><td>-0.000003</td><td>-0.000003</td><td>-0.000002</td><td>-0.000002</td><td>-0.000001</td><td>-4.5230e-7</td><td>-4.7653e-7</td><td>1.3881e-7</td><td>-0.000002</td><td>-0.000004</td><td>-0.000003</td><td>-6.0514e-7</td><td>-0.000003</td><td>-0.000002</td><td>-0.000004</td><td>-0.000013</td><td>-0.000021</td><td>-0.00001</td><td>0.000004</td><td>0.000009</td><td>0.00001</td><td>0.000015</td><td>0.000027</td><td>0.000025</td><td>0.000013</td><td>0.000002</td><td>-6.9037e-7</td><td>7.4786e-7</td><td>0.000016</td><td>107.611807</td><td>257.103821</td><td>3.1500e-8</td><td>4.1063e-8</td><td>22.724353</td><td>48.404091</td><td>37.161008</td><td>20.324773</td></tr><tr><td>&quot;train_10091516…</td><td>221.184766</td><td>231.435767</td><td>243.827865</td><td>244.231446</td><td>243.928467</td><td>240.257674</td><td>234.949415</td><td>233.46264</td><td>231.890954</td><td>229.358602</td><td>226.774241</td><td>224.158731</td><td>221.849826</td><td>219.936814</td><td>218.521489</td><td>217.514122</td><td>216.748708</td><td>217.249508</td><td>214.732886</td><td>215.143089</td><td>212.452987</td><td>210.873414</td><td>209.604019</td><td>209.275754</td><td>209.130915</td><td>209.433284</td><td>209.997225</td><td>210.925488</td><td>212.185558</td><td>213.829119</td><td>215.755009</td><td>217.993545</td><td>220.540497</td><td>223.263817</td><td>226.03657</td><td>228.8084</td><td>&hellip;</td><td>-1.4331e-13</td><td>1.3069e-13</td><td>6.4823e-14</td><td>2.6268e-15</td><td>-2.5164e-10</td><td>2.5291e-10</td><td>9.4789e-12</td><td>-2.4635e-10</td><td>2.3894e-10</td><td>-1.4944e-10</td><td>2.4675e-10</td><td>-9.4245e-11</td><td>1.0735e-13</td><td>2.3458e-13</td><td>-2.0188e-14</td><td>5.6469e-10</td><td>-3.7038e-9</td><td>3.3183e-9</td><td>-1.7365e-9</td><td>2.4338e-9</td><td>-3.7646e-10</td><td>-7.9879e-10</td><td>5.2295e-9</td><td>-3.3260e-9</td><td>-8.3840e-9</td><td>6.2364e-8</td><td>-5.4694e-8</td><td>1.5971e-8</td><td>-1.5750e-8</td><td>0.0</td><td>186.06094</td><td>7.1621e-9</td><td>7.1621e-9</td><td>0.0</td><td>0.0</td><td>0.0</td><td>0.0</td></tr><tr><td>&quot;train_10091517…</td><td>216.788237</td><td>230.632446</td><td>237.46813</td><td>240.771384</td><td>246.096634</td><td>246.684208</td><td>244.736015</td><td>241.222979</td><td>236.15939</td><td>230.933297</td><td>226.044978</td><td>221.384779</td><td>217.634077</td><td>214.918373</td><td>213.441158</td><td>212.943206</td><td>212.937839</td><td>213.870819</td><td>211.639879</td><td>213.219236</td><td>211.481076</td><td>210.636765</td><td>210.152897</td><td>210.693573</td><td>211.271434</td><td>212.018929</td><td>212.831287</td><td>213.79282</td><td>214.898316</td><td>216.171439</td><td>217.580653</td><td>219.187888</td><td>221.123011</td><td>223.391957</td><td>225.935751</td><td>228.495692</td><td>&hellip;</td><td>5.8144e-9</td><td>6.8480e-9</td><td>4.6462e-9</td><td>8.1932e-10</td><td>-3.6151e-9</td><td>-8.8435e-9</td><td>-3.9092e-9</td><td>2.4325e-9</td><td>1.0362e-8</td><td>1.1174e-8</td><td>4.1097e-9</td><td>-7.7867e-9</td><td>-2.6876e-9</td><td>-8.3056e-9</td><td>-7.8687e-9</td><td>-2.2340e-10</td><td>2.1262e-9</td><td>5.9992e-8</td><td>-7.4132e-7</td><td>7.3882e-7</td><td>0.000001</td><td>-7.7664e-7</td><td>0.000004</td><td>-0.000012</td><td>0.000009</td><td>-4.7763e-7</td><td>1.4704e-8</td><td>0.000006</td><td>-0.000007</td><td>0.0</td><td>182.101079</td><td>3.6873e-9</td><td>3.6873e-9</td><td>0.0</td><td>0.0</td><td>0.0</td><td>0.0</td></tr><tr><td>&quot;train_10091518…</td><td>218.006784</td><td>236.776566</td><td>245.606871</td><td>243.79668</td><td>243.790163</td><td>238.754966</td><td>231.686268</td><td>227.635686</td><td>223.390421</td><td>220.427541</td><td>220.022349</td><td>220.301264</td><td>220.332711</td><td>220.326997</td><td>220.149311</td><td>219.631553</td><td>218.642933</td><td>219.154555</td><td>217.037656</td><td>217.25515</td><td>216.615298</td><td>215.830707</td><td>215.396789</td><td>215.774921</td><td>216.449782</td><td>217.358127</td><td>218.375855</td><td>219.45751</td><td>220.598166</td><td>221.791014</td><td>223.024825</td><td>224.273239</td><td>225.622768</td><td>227.163266</td><td>229.010369</td><td>230.918216</td><td>&hellip;</td><td>-3.9519e-7</td><td>8.6564e-9</td><td>-6.8116e-8</td><td>-1.0539e-7</td><td>1.1458e-7</td><td>-0.000001</td><td>-0.000002</td><td>8.1032e-8</td><td>-0.000001</td><td>-0.000002</td><td>-0.000002</td><td>-0.00001</td><td>-0.000017</td><td>-0.00002</td><td>-0.000009</td><td>0.000004</td><td>0.000008</td><td>0.000008</td><td>0.00002</td><td>0.000014</td><td>-0.000001</td><td>0.000007</td><td>0.000004</td><td>0.000003</td><td>0.000007</td><td>0.000017</td><td>-0.000002</td><td>0.000008</td><td>0.00001</td><td>59.039899</td><td>209.551529</td><td>1.9389e-8</td><td>1.9389e-8</td><td>14.608487</td><td>34.292222</td><td>20.056211</td><td>8.276275</td></tr><tr><td>&quot;train_10091519…</td><td>217.519808</td><td>235.814484</td><td>239.003596</td><td>240.855199</td><td>246.012519</td><td>245.49089</td><td>241.290965</td><td>235.622608</td><td>228.946642</td><td>224.474221</td><td>222.433727</td><td>221.324441</td><td>220.072408</td><td>218.48778</td><td>216.741439</td><td>215.218037</td><td>214.559915</td><td>215.237957</td><td>213.305398</td><td>214.287812</td><td>214.079982</td><td>213.77354</td><td>213.85752</td><td>214.70718</td><td>215.776272</td><td>216.970041</td><td>218.21273</td><td>219.424146</td><td>220.615418</td><td>221.864754</td><td>223.089031</td><td>224.320413</td><td>225.650196</td><td>227.24882</td><td>229.315262</td><td>231.459303</td><td>&hellip;</td><td>2.2743e-9</td><td>-2.4211e-7</td><td>6.2524e-7</td><td>-8.1509e-8</td><td>8.5655e-8</td><td>-1.4710e-7</td><td>8.1511e-7</td><td>1.4196e-9</td><td>4.2642e-7</td><td>6.2761e-9</td><td>6.3340e-7</td><td>-0.000002</td><td>-7.2230e-7</td><td>-2.3553e-7</td><td>-0.000002</td><td>0.000002</td><td>0.000009</td><td>0.000034</td><td>0.000058</td><td>0.000071</td><td>-0.000059</td><td>-0.000016</td><td>-0.000041</td><td>-0.000034</td><td>0.000001</td><td>0.000003</td><td>-0.000017</td><td>-0.000014</td><td>-0.000019</td><td>0.0</td><td>226.68689</td><td>1.3376e-8</td><td>1.3380e-8</td><td>0.236981</td><td>1.790384</td><td>4.96748</td><td>3.851938</td></tr></tbody></table></div>"
      ],
      "text/plain": [
       "shape: (1_091_520, 925)\n",
       "┌───────────┬───────────┬───────────┬───────────┬───┬───────────┬───────────┬───────────┬──────────┐\n",
       "│ train_899 ┆ 220.84618 ┆ 232.95319 ┆ 239.28967 ┆ … ┆ 0.0584028 ┆ 0.0584950 ┆ 5.3399874 ┆ 3.300893 │\n",
       "│ 9999      ┆ 620470582 ┆ 68587996  ┆ 49874301  ┆   ┆ 201384533 ┆ 942039650 ┆ 35970747  ┆ 55200532 │\n",
       "│ ---       ┆ ---       ┆ ---       ┆ ---       ┆   ┆ 26        ┆ 1         ┆ ---       ┆ 9        │\n",
       "│ str       ┆ f64       ┆ f64       ┆ f64       ┆   ┆ ---       ┆ ---       ┆ f64       ┆ ---      │\n",
       "│           ┆           ┆           ┆           ┆   ┆ f64       ┆ f64       ┆           ┆ f64      │\n",
       "╞═══════════╪═══════════╪═══════════╪═══════════╪═══╪═══════════╪═══════════╪═══════════╪══════════╡\n",
       "│ train_900 ┆ 220.33544 ┆ 241.12601 ┆ 247.12399 ┆ … ┆ 0.0       ┆ 0.0       ┆ 0.0       ┆ 0.0      │\n",
       "│ 0000      ┆ 8         ┆           ┆ 2         ┆   ┆           ┆           ┆           ┆          │\n",
       "│ train_900 ┆ 226.65802 ┆ 234.51008 ┆ 243.24759 ┆ … ┆ 6.3028e-1 ┆ 1.0426e-1 ┆ 1.410791  ┆ 0.787869 │\n",
       "│ 0001      ┆ 1         ┆ 4         ┆ 6         ┆   ┆ 09        ┆ 15        ┆           ┆          │\n",
       "│ train_900 ┆ 221.93022 ┆ 234.73251 ┆ 241.92738 ┆ … ┆ 0.0       ┆ 0.0       ┆ 0.0       ┆ 0.0      │\n",
       "│ 0002      ┆ 1         ┆ 2         ┆ 2         ┆   ┆           ┆           ┆           ┆          │\n",
       "│ train_900 ┆ 225.23466 ┆ 234.22537 ┆ 239.13049 ┆ … ┆ 0.06987   ┆ 0.000419  ┆ 6.304667  ┆ 3.194637 │\n",
       "│ 0003      ┆ 7         ┆ 8         ┆ 3         ┆   ┆           ┆           ┆           ┆          │\n",
       "│ train_900 ┆ 222.27016 ┆ 232.54385 ┆ 240.55377 ┆ … ┆ 1.9299e-1 ┆ 2.4130e-1 ┆ 10.39755  ┆ 5.950729 │\n",
       "│ 0004      ┆ 8         ┆ 7         ┆ 8         ┆   ┆ 3         ┆ 6         ┆           ┆          │\n",
       "│ …         ┆ …         ┆ …         ┆ …         ┆ … ┆ …         ┆ …         ┆ …         ┆ …        │\n",
       "│ train_100 ┆ 217.42300 ┆ 242.42814 ┆ 250.15898 ┆ … ┆ 22.724353 ┆ 48.404091 ┆ 37.161008 ┆ 20.32477 │\n",
       "│ 91515     ┆ 3         ┆ 3         ┆ 8         ┆   ┆           ┆           ┆           ┆ 3        │\n",
       "│ train_100 ┆ 221.18476 ┆ 231.43576 ┆ 243.82786 ┆ … ┆ 0.0       ┆ 0.0       ┆ 0.0       ┆ 0.0      │\n",
       "│ 91516     ┆ 6         ┆ 7         ┆ 5         ┆   ┆           ┆           ┆           ┆          │\n",
       "│ train_100 ┆ 216.78823 ┆ 230.63244 ┆ 237.46813 ┆ … ┆ 0.0       ┆ 0.0       ┆ 0.0       ┆ 0.0      │\n",
       "│ 91517     ┆ 7         ┆ 6         ┆           ┆   ┆           ┆           ┆           ┆          │\n",
       "│ train_100 ┆ 218.00678 ┆ 236.77656 ┆ 245.60687 ┆ … ┆ 14.608487 ┆ 34.292222 ┆ 20.056211 ┆ 8.276275 │\n",
       "│ 91518     ┆ 4         ┆ 6         ┆ 1         ┆   ┆           ┆           ┆           ┆          │\n",
       "│ train_100 ┆ 217.51980 ┆ 235.81448 ┆ 239.00359 ┆ … ┆ 0.236981  ┆ 1.790384  ┆ 4.96748   ┆ 3.851938 │\n",
       "│ 91519     ┆ 8         ┆ 4         ┆ 6         ┆   ┆           ┆           ┆           ┆          │\n",
       "└───────────┴───────────┴───────────┴───────────┴───┴───────────┴───────────┴───────────┴──────────┘"
      ]
     },
     "execution_count": 12,
     "metadata": {},
     "output_type": "execute_result"
    }
   ],
   "source": [
    "reader"
   ]
  },
  {
   "cell_type": "code",
   "execution_count": 13,
   "id": "9b9a4d23",
   "metadata": {
    "execution": {
     "iopub.execute_input": "2024-05-28T13:55:59.507833Z",
     "iopub.status.busy": "2024-05-28T13:55:59.507393Z",
     "iopub.status.idle": "2024-05-28T13:57:04.919581Z",
     "shell.execute_reply": "2024-05-28T13:57:04.918220Z"
    },
    "papermill": {
     "duration": 65.429272,
     "end_time": "2024-05-28T13:57:04.928372",
     "exception": false,
     "start_time": "2024-05-28T13:55:59.499100",
     "status": "completed"
    },
    "tags": []
   },
   "outputs": [
    {
     "name": "stdout",
     "output_type": "stream",
     "text": [
      "Batch 10 saved to leap_train_batch_10.parquet\n"
     ]
    }
   ],
   "source": [
    "# Initialize a counter to track batches\n",
    "batch_counter = 9\n",
    "\n",
    "\n",
    "parquet_file_path = f'leap_train_batch_{batch_counter + 1}.parquet'\n",
    "reader.write_parquet(parquet_file_path)\n",
    "print(f'Batch {batch_counter + 1} saved to {parquet_file_path}')"
   ]
  },
  {
   "cell_type": "code",
   "execution_count": null,
   "id": "4b0b6dd4",
   "metadata": {
    "papermill": {
     "duration": 0.00629,
     "end_time": "2024-05-28T13:57:04.942206",
     "exception": false,
     "start_time": "2024-05-28T13:57:04.935916",
     "status": "completed"
    },
    "tags": []
   },
   "outputs": [],
   "source": []
  }
 ],
 "metadata": {
  "kaggle": {
   "accelerator": "none",
   "dataSources": [
    {
     "databundleVersionId": 8015876,
     "sourceId": 56537,
     "sourceType": "competition"
    }
   ],
   "isGpuEnabled": false,
   "isInternetEnabled": true,
   "language": "python",
   "sourceType": "notebook"
  },
  "kernelspec": {
   "display_name": "Python 3",
   "language": "python",
   "name": "python3"
  },
  "language_info": {
   "codemirror_mode": {
    "name": "ipython",
    "version": 3
   },
   "file_extension": ".py",
   "mimetype": "text/x-python",
   "name": "python",
   "nbconvert_exporter": "python",
   "pygments_lexer": "ipython3",
   "version": "3.10.13"
  },
  "papermill": {
   "default_parameters": {},
   "duration": 4562.226752,
   "end_time": "2024-05-28T13:57:07.585265",
   "environment_variables": {},
   "exception": null,
   "input_path": "__notebook__.ipynb",
   "output_path": "__notebook__.ipynb",
   "parameters": {},
   "start_time": "2024-05-28T12:41:05.358513",
   "version": "2.5.0"
  }
 },
 "nbformat": 4,
 "nbformat_minor": 5
}
